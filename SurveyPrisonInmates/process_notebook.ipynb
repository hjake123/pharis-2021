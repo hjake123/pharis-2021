{
 "cells": [
  {
   "cell_type": "code",
   "execution_count": 1,
   "id": "92bdf682",
   "metadata": {},
   "outputs": [],
   "source": [
    "import pandas\n",
    "\n",
    "dataset = pandas.read_table(\"ICPSR_37692/DS0002/37692-0002-Data.tsv\", low_memory=False)"
   ]
  },
  {
   "cell_type": "code",
   "execution_count": 2,
   "id": "4592447e",
   "metadata": {},
   "outputs": [],
   "source": [
    "def remove_indet(frame, variable_name, keep_dontknow=False, dontknow_signal=\"-1\"):\n",
    "    ''' \n",
    "    Removes entries from the dataframe for which the given variables has a negative, indeterminate value.\n",
    "    When keep_dontknow is true, it preserves entries for which the value was \"-1\", which is used in the data as a generic\n",
    "    \"don't know\" signal. That operation does not preserve order.\n",
    "    '''\n",
    "    neg_mask = frame[f'{variable_name}'].str[0] == \"-\"\n",
    "    if keep_dontknow:\n",
    "        frame1 = frame.query('not @neg_mask')\n",
    "        frame2 = frame.query(f'{variable_name} == \"{dontknow_signal}\"')\n",
    "        frame = pandas.concat([frame1, frame2])\n",
    "    else:\n",
    "        frame = frame.query('not @neg_mask')\n",
    "\n",
    "    return frame\n",
    "    "
   ]
  },
  {
   "cell_type": "code",
   "execution_count": 3,
   "id": "eb0a20b1",
   "metadata": {},
   "outputs": [],
   "source": [
    "'''Select only self-identified transgender people.'''\n",
    "\n",
    "trans_data = dataset.query('V1212 == \"3\"')"
   ]
  },
  {
   "cell_type": "markdown",
   "id": "d79a0af2",
   "metadata": {},
   "source": [
    "First, we will cut the data into sets for specific interest groups."
   ]
  },
  {
   "cell_type": "code",
   "execution_count": 4,
   "id": "9059fb24",
   "metadata": {},
   "outputs": [],
   "source": [
    "'''\n",
    "Select only data on non-straight people. This excludes V1213 answer 2, \n",
    "and also people who failed to indicate sexual orientation.\n",
    "\n",
    "I include people who reported that they did not know their sexual orientation,\n",
    "either via the -1 \"Don't Know\" error coding or the 5 \"You don't know the answer.\"\n",
    "This should allow for questioning people to be included as well.\n",
    "'''\n",
    "\n",
    "lgbq_data = dataset.query('V1213 != \"2\"') \n",
    "lgbq_data = remove_indet(lgbq_data, \"V1213\", keep_dontknow=True)"
   ]
  },
  {
   "cell_type": "code",
   "execution_count": 5,
   "id": "786a8da7",
   "metadata": {},
   "outputs": [],
   "source": [
    "'''\n",
    "Select 'assigned gender non-conforming' people. I define this to mean people whose assigned sex at birth does not match\n",
    "their gender, regardless of transgender identification.\n",
    "'''\n",
    "\n",
    "agnc_data = dataset.query('V1211 != V1212')\n",
    "agnc_data = remove_indet(agnc_data, 'V1211')\n",
    "agnc_data = remove_indet(agnc_data, 'V1212', keep_dontknow=True)"
   ]
  },
  {
   "cell_type": "code",
   "execution_count": 6,
   "id": "a8657420",
   "metadata": {
    "scrolled": true
   },
   "outputs": [
    {
     "name": "stdout",
     "output_type": "stream",
     "text": [
      "20064\n",
      "29\n",
      "1843\n",
      "87\n"
     ]
    }
   ],
   "source": [
    "print(len(dataset))\n",
    "print(len(trans_data))\n",
    "print(len(lgbq_data))\n",
    "print(len(agnc_data))\n"
   ]
  },
  {
   "cell_type": "code",
   "execution_count": 7,
   "id": "99ac1a0b",
   "metadata": {},
   "outputs": [
    {
     "data": {
      "text/plain": [
       "3.0"
      ]
     },
     "execution_count": 7,
     "metadata": {},
     "output_type": "execute_result"
    }
   ],
   "source": [
    "''' Interestingly, exactly 1 in 3 ASNC people in this population chose to label themselves transgender. '''\n",
    "len(agnc_data)/len(trans_data)"
   ]
  },
  {
   "cell_type": "code",
   "execution_count": 8,
   "id": "0d2ab4f6",
   "metadata": {
    "scrolled": true
   },
   "outputs": [
    {
     "data": {
      "text/plain": [
       "1871"
      ]
     },
     "execution_count": 8,
     "metadata": {},
     "output_type": "execute_result"
    }
   ],
   "source": [
    "''' Merge into a dataset for all lgbtq people. '''\n",
    "\n",
    "lgbtq_data = pandas.concat([lgbq_data, agnc_data]).drop_duplicates()\n",
    "len(lgbtq_data)"
   ]
  },
  {
   "cell_type": "markdown",
   "id": "8b18f018",
   "metadata": {},
   "source": [
    "Seperate these datasets by state."
   ]
  },
  {
   "cell_type": "code",
   "execution_count": 9,
   "id": "9c7e0505",
   "metadata": {},
   "outputs": [],
   "source": [
    "''' A list of all state codes given by the dataset. Invalid codes are removed. '''\n",
    "list_state_codes = ['FL', 'MD', 'PA', 'NM', 'KY', 'MA', 'OR', 'WV', 'WI', 'WA', 'MI', 'CA', 'IL', 'VA', 'DE', 'NY', 'NV', 'SD', 'LA', 'UT', 'TX', 'MN', 'MO', 'SC', 'GA', 'NC', 'TN', 'IA', 'OH', 'IN', 'CT', 'MS', 'AR', 'HI', 'OK', 'NJ', 'ID', 'AZ', 'VT', 'NE', 'CO', 'AK', 'AL', 'KS', 'DC', 'ND', 'RI', 'NH', 'WY', 'MT', 'ME']\n",
    "# PR removed because of data issues"
   ]
  },
  {
   "cell_type": "code",
   "execution_count": 10,
   "id": "46211e64",
   "metadata": {},
   "outputs": [],
   "source": [
    "def cut_by_state(frame):\n",
    "    ''' Divide a dataframe into a dictionary of 50 dataframes by state the inmate was living in at the time of arrest. '''\n",
    "    statewise_dict = {}\n",
    "    for state in list_state_codes:\n",
    "        subset = frame.query(f'V0772 == \"{state}\"')\n",
    "        statewise_dict[f'{state}'] = subset\n",
    "        \n",
    "    return statewise_dict\n",
    "        "
   ]
  },
  {
   "cell_type": "code",
   "execution_count": 11,
   "id": "e3f404e4",
   "metadata": {
    "scrolled": false
   },
   "outputs": [],
   "source": [
    "lgbtq_bs = cut_by_state(lgbtq_data)"
   ]
  },
  {
   "cell_type": "markdown",
   "id": "42a8b792",
   "metadata": {},
   "source": [
    "Calculate the LGBTQ overrepresentation index for each state."
   ]
  },
  {
   "cell_type": "code",
   "execution_count": 12,
   "id": "ebc3312a",
   "metadata": {},
   "outputs": [],
   "source": [
    "''' Representation Index, measures percentage of sampled prisoners who are LGBTQ in each state. '''\n",
    "ri_bs = {}\n",
    "for state in list_state_codes:\n",
    "    count = len(lgbtq_bs[state])\n",
    "    base = len(dataset.query(f'V0772 == \"{state}\"'))\n",
    "    ri_bs[f'{state}'] = float(count/base)\n",
    "    "
   ]
  },
  {
   "cell_type": "code",
   "execution_count": 13,
   "id": "1e5da33f",
   "metadata": {},
   "outputs": [
    {
     "name": "stdout",
     "output_type": "stream",
     "text": [
      "{'FL': 0.05313243457573354, 'MD': 0.09392265193370165, 'PA': 0.07084019769357495, 'NM': 0.2054794520547945, 'KY': 0.25874125874125875, 'MA': 0.140893470790378, 'OR': 0.11003236245954692, 'WV': 0.20689655172413793, 'WI': 0.1172566371681416, 'WA': 0.09545454545454546, 'MI': 0.05764411027568922, 'CA': 0.05890909090909091, 'IL': 0.06482593037214886, 'VA': 0.11257309941520467, 'DE': 0.22535211267605634, 'NY': 0.07989690721649484, 'NV': 0.09854014598540146, 'SD': 0.12403100775193798, 'LA': 0.12093023255813953, 'UT': 0.2153846153846154, 'TX': 0.05662983425414365, 'MN': 0.16216216216216217, 'MO': 0.08433734939759036, 'SC': 0.1417910447761194, 'GA': 0.08236536430834214, 'NC': 0.11053540587219343, 'TN': 0.10025062656641603, 'IA': 0.09375, 'OH': 0.09783728115345006, 'IN': 0.1523046092184369, 'CT': 0.12030075187969924, 'MS': 0.07623318385650224, 'AR': 0.08917197452229299, 'HI': 0.12195121951219512, 'OK': 0.15017064846416384, 'NJ': 0.16666666666666666, 'ID': 0.27692307692307694, 'AZ': 0.09018567639257294, 'VT': 0.041666666666666664, 'NE': 0.2459016393442623, 'CO': 0.06796116504854369, 'AK': 0.04918032786885246, 'AL': 0.09935897435897435, 'KS': 0.12698412698412698, 'DC': 0.0, 'ND': 0.3333333333333333, 'RI': 0.0, 'NH': 0.14285714285714285, 'WY': 0.0, 'MT': 0.3333333333333333, 'ME': 0.0}\n"
     ]
    }
   ],
   "source": [
    "print(ri_bs)"
   ]
  },
  {
   "cell_type": "code",
   "execution_count": 14,
   "id": "9d1d321d",
   "metadata": {},
   "outputs": [],
   "source": [
    "gen_lgbt_pops = pandas.read_csv(\"LGBTQ_pop_counts\\lbgt_percent_by_state.csv\")"
   ]
  },
  {
   "cell_type": "code",
   "execution_count": 15,
   "id": "52ad6d6a",
   "metadata": {},
   "outputs": [],
   "source": [
    "''' OverRepresentation Index, measures proportion of LGBTQ sampled prisoners per state to proportion of LGBTQ people in the state'''\n",
    "ori_bs = {}\n",
    "\n",
    "for state in list_state_codes:\n",
    "    count = ri_bs[state]\n",
    "    base = float(gen_lgbt_pops.query(f'State == \"{state}\"')['Estimated Percent LGBT'])\n",
    "    ori_bs[f'{state}'] = count/base * 100"
   ]
  },
  {
   "cell_type": "code",
   "execution_count": 16,
   "id": "6187143e",
   "metadata": {},
   "outputs": [
    {
     "name": "stdout",
     "output_type": "stream",
     "text": [
      "{'FL': 1.4782104013962643, 'MD': 2.867961381688656, 'PA': 2.180038968333232, 'NM': 5.984589040834065, 'KY': 9.880820034939811, 'MA': 2.4524714497689057, 'OR': 2.5361557644601938, 'WV': 6.392390011608459, 'WI': 4.491237774062529, 'WA': 2.4229545452901884, 'MI': 1.851098807959908, 'CA': 1.441248297049704, 'IL': 1.928343168392275, 'VA': 3.7390037999224504, 'DE': 3.9195171026002966, 'NY': 1.9428930411686263, 'NV': 2.389792517029591, 'SD': 5.4883720921725585, 'LA': 4.044637778134733, 'UT': 8.631538460202732, 'TX': 1.9137979881009706, 'MN': 5.226254826983516, 'MO': 2.8754350739666665, 'SC': 5.329066346364567, 'GA': 2.456385036194246, 'NC': 3.634154660302144, 'TN': 3.7616018060678815, 'IA': 3.3997844824577204, 'OH': 2.939897119186876, 'IN': 4.477356459356377, 'CT': 3.863713337495011, 'MS': 2.871771584777028, 'AR': 5.382420381560621, 'HI': 3.3208255161109532, 'OK': 5.25863058325491, 'NJ': 5.140046295558128, 'ID': 13.746153848490694, 'AZ': 2.7126509857575805, 'VT': 0.99999999992, 'NE': 8.646795828120435, 'CO': 1.9569417477159659, 'AK': 3.172778256844762, 'AL': 3.4633699633897534, 'KS': 5.067188519954109, 'DC': 0.0, 'ND': 15.874999998551406, 'RI': 0.0, 'NH': 3.8095238095238093, 'WY': 0.0, 'MT': 14.847222222890347, 'ME': 0.0}\n"
     ]
    }
   ],
   "source": [
    "print(ori_bs)"
   ]
  },
  {
   "cell_type": "code",
   "execution_count": null,
   "id": "33fe7228",
   "metadata": {},
   "outputs": [],
   "source": []
  }
 ],
 "metadata": {
  "kernelspec": {
   "display_name": "Python 3",
   "language": "python",
   "name": "python3"
  },
  "language_info": {
   "codemirror_mode": {
    "name": "ipython",
    "version": 3
   },
   "file_extension": ".py",
   "mimetype": "text/x-python",
   "name": "python",
   "nbconvert_exporter": "python",
   "pygments_lexer": "ipython3",
   "version": "3.8.10"
  }
 },
 "nbformat": 4,
 "nbformat_minor": 5
}
