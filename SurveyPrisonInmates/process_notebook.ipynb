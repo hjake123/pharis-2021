{
 "cells": [
  {
   "cell_type": "code",
   "execution_count": 1,
   "id": "0183e8b5",
   "metadata": {},
   "outputs": [],
   "source": [
    "def remove_indet(frame, variable_name, keep_dontknow=False):\n",
    "    ''' Removes entries from the dataframe for which the given variables has a negative, indeterminate value. '''\n",
    "    frame = frame.query(f'{variable_name} != \"-2\"')\n",
    "    frame = frame.query(f'{variable_name} != \"-8\"')\n",
    "    frame = frame.query(f'{variable_name} != \"-9\"')\n",
    "    frame = frame.query(f'{variable_name} != \" \"')\n",
    "    if not keep_dontknow:\n",
    "        frame = frame.query(f'{variable_name} != \"-1\"')\n",
    "    return frame\n",
    "    "
   ]
  },
  {
   "cell_type": "code",
   "execution_count": 2,
   "id": "953ed40d",
   "metadata": {},
   "outputs": [],
   "source": [
    "import pandas\n",
    "\n",
    "dataset = pandas.read_table(\"ICPSR_37692/DS0002/37692-0002-Data.tsv\", low_memory=False)"
   ]
  },
  {
   "cell_type": "code",
   "execution_count": 3,
   "id": "52c0428c",
   "metadata": {},
   "outputs": [],
   "source": [
    "'''Select only self-identified transgender people.'''\n",
    "\n",
    "trans_data = dataset.query('V1212 == \"3\"')"
   ]
  },
  {
   "cell_type": "markdown",
   "id": "1dd49a79",
   "metadata": {},
   "source": [
    "First, we will cut the data into sets for specific interest groups."
   ]
  },
  {
   "cell_type": "code",
   "execution_count": 4,
   "id": "13e73c01",
   "metadata": {},
   "outputs": [],
   "source": [
    "'''\n",
    "Select only data on non-straight people. This excludes V1213 answer 2, \n",
    "and also people who failed to indicate sexual orientation.\n",
    "\n",
    "I include people who reported that they did not know their sexual orientation,\n",
    "either via the -1 \"Don't Know\" error coding or the 5 \"You don't know the answer.\"\n",
    "This should allow for questioning people to be included as well.\n",
    "'''\n",
    "\n",
    "lgbq_data = dataset.query('V1213 != \"2\"') \n",
    "lgbq_data = remove_indet(lgbq_data, \"V1213\", keep_dontknow=True)"
   ]
  },
  {
   "cell_type": "code",
   "execution_count": 5,
   "id": "26c5e5d8",
   "metadata": {},
   "outputs": [],
   "source": [
    "'''\n",
    "Select 'assigned sex non-conforming' people. I define this to mean people whose assigned sex at birth does not match\n",
    "their gender, regardless of transgender identification.\n",
    "'''\n",
    "\n",
    "asnc_data = dataset.query('V1211 != V1212')\n",
    "asnc_data = remove_indet(asnc_data, 'V1211')\n",
    "asnc_data = remove_indet(asnc_data, 'V1212', keep_dontknow=True)"
   ]
  },
  {
   "cell_type": "code",
   "execution_count": 6,
   "id": "1525c78f",
   "metadata": {
    "scrolled": true
   },
   "outputs": [
    {
     "name": "stdout",
     "output_type": "stream",
     "text": [
      "20064\n",
      "29\n",
      "1731\n",
      "86\n"
     ]
    }
   ],
   "source": [
    "print(len(dataset))\n",
    "print(len(trans_data))\n",
    "print(len(lgbq_data))\n",
    "print(len(asnc_data))\n"
   ]
  },
  {
   "cell_type": "code",
   "execution_count": 7,
   "id": "6d6b6695",
   "metadata": {},
   "outputs": [
    {
     "data": {
      "text/plain": [
       "2.9655172413793105"
      ]
     },
     "execution_count": 7,
     "metadata": {},
     "output_type": "execute_result"
    }
   ],
   "source": [
    "''' Interestingly, only ~1 in 3 ASNC people in this population chose to label themselves transgender. '''\n",
    "len(asnc_data)/len(trans_data)"
   ]
  },
  {
   "cell_type": "code",
   "execution_count": null,
   "id": "22d98269",
   "metadata": {},
   "outputs": [],
   "source": []
  }
 ],
 "metadata": {
  "kernelspec": {
   "display_name": "Python 3",
   "language": "python",
   "name": "python3"
  },
  "language_info": {
   "codemirror_mode": {
    "name": "ipython",
    "version": 3
   },
   "file_extension": ".py",
   "mimetype": "text/x-python",
   "name": "python",
   "nbconvert_exporter": "python",
   "pygments_lexer": "ipython3",
   "version": "3.8.8"
  }
 },
 "nbformat": 4,
 "nbformat_minor": 5
}
