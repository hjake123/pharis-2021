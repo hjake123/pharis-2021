{
 "cells": [
  {
   "cell_type": "code",
   "execution_count": null,
   "id": "92bdf682",
   "metadata": {},
   "outputs": [],
   "source": [
    "import pandas\n",
    "\n",
    "dataset = pandas.read_table(\"ICPSR_37692/DS0001/37692-0001-Data.tsv\", low_memory=False)"
   ]
  },
  {
   "cell_type": "code",
   "execution_count": null,
   "id": "4592447e",
   "metadata": {},
   "outputs": [],
   "source": [
    "def remove_indet(frame, variable_name, keep_dontknow=False, dontknow_signal=\"-1\"):\n",
    "    ''' \n",
    "    Removes entries from the dataframe for which the given variables has a negative, indeterminate value.\n",
    "    When keep_dontknow is true, it preserves entries for which the value was \"-1\", which is used in the data as a generic\n",
    "    \"don't know\" signal. That operation does not preserve order.\n",
    "    '''\n",
    "    neg_mask = frame[f'{variable_name}'].str[0] == \"-\"\n",
    "    if keep_dontknow:\n",
    "        frame1 = frame.query('not @neg_mask')\n",
    "        frame2 = frame.query(f'{variable_name} == \"{dontknow_signal}\"')\n",
    "        frame = pandas.concat([frame1, frame2])\n",
    "    else:\n",
    "        frame = frame.query('not @neg_mask')\n",
    "\n",
    "    return frame\n",
    "    "
   ]
  },
  {
   "cell_type": "code",
   "execution_count": null,
   "id": "eb0a20b1",
   "metadata": {},
   "outputs": [],
   "source": [
    "'''Select only self-identified transgender people.'''\n",
    "\n",
    "trans_data = dataset.query('V1212 == \"3\"')"
   ]
  },
  {
   "cell_type": "markdown",
   "id": "d79a0af2",
   "metadata": {},
   "source": [
    "First, we will cut the data into sets for specific interest groups."
   ]
  },
  {
   "cell_type": "code",
   "execution_count": null,
   "id": "9059fb24",
   "metadata": {},
   "outputs": [],
   "source": [
    "'''\n",
    "Select only data on non-straight people. This excludes V1213 answer 2, \n",
    "and also people who failed to indicate sexual orientation.\n",
    "\n",
    "I include people who reported that they did not know their sexual orientation,\n",
    "either via the -1 \"Don't Know\" error coding or the 5 \"You don't know the answer.\"\n",
    "This should allow for questioning people to be included as well.\n",
    "'''\n",
    "\n",
    "lgbq_data = dataset.query('V1213 != \"2\"') \n",
    "lgbq_data = remove_indet(lgbq_data, \"V1213\", keep_dontknow=True)"
   ]
  },
  {
   "cell_type": "code",
   "execution_count": null,
   "id": "786a8da7",
   "metadata": {},
   "outputs": [],
   "source": [
    "'''\n",
    "Select 'assigned gender non-conforming' people. I define this to mean people whose assigned sex at birth does not match\n",
    "their gender, regardless of transgender identification.\n",
    "'''\n",
    "\n",
    "agnc_data = dataset.query('V1211 != V1212')\n",
    "agnc_data = remove_indet(agnc_data, 'V1211')\n",
    "agnc_data = remove_indet(agnc_data, 'V1212', keep_dontknow=True)"
   ]
  },
  {
   "cell_type": "code",
   "execution_count": null,
   "id": "a8657420",
   "metadata": {
    "scrolled": true
   },
   "outputs": [],
   "source": [
    "print(len(dataset))\n",
    "print(len(trans_data))\n",
    "print(len(lgbq_data))\n",
    "print(len(agnc_data))\n"
   ]
  },
  {
   "cell_type": "code",
   "execution_count": null,
   "id": "7fdd931e",
   "metadata": {},
   "outputs": [],
   "source": [
    "print(len(lgbq_data.query('V1213 == \"3\"')))"
   ]
  },
  {
   "cell_type": "code",
   "execution_count": null,
   "id": "99ac1a0b",
   "metadata": {},
   "outputs": [],
   "source": [
    "''' Interestingly, exactly 1 in 3 ASNC people in this population chose to label themselves transgender. '''\n",
    "len(agnc_data)/len(trans_data)"
   ]
  },
  {
   "cell_type": "code",
   "execution_count": null,
   "id": "a5666113",
   "metadata": {
    "scrolled": true
   },
   "outputs": [],
   "source": [
    "''' Merge into a dataset for all lgbtq people. '''\n",
    "\n",
    "lgbtq_data = pandas.concat([lgbq_data, agnc_data]).drop_duplicates()\n",
    "len(lgbtq_data)"
   ]
  },
  {
   "cell_type": "code",
   "execution_count": null,
   "id": "5f7b8230",
   "metadata": {},
   "outputs": [],
   "source": [
    "''' 73% of LGBTQ respondants identified as female. '''\n",
    "\n",
    "m = len(lgbtq_data.query(\"V1212 == '1'\"))\n",
    "f = len(lgbtq_data.query(\"V1212 == '2'\"))\n",
    "print(m)\n",
    "print(f)\n",
    "print(f / (m+f))"
   ]
  },
  {
   "cell_type": "markdown",
   "id": "8b18f018",
   "metadata": {},
   "source": [
    "Seperate these datasets by state."
   ]
  },
  {
   "cell_type": "code",
   "execution_count": null,
   "id": "9c7e0505",
   "metadata": {},
   "outputs": [],
   "source": [
    "''' A list of all state codes given by the dataset. Invalid codes are removed. '''\n",
    "list_state_codes = ['FL', 'MD', 'PA', 'NM', 'KY', 'MA', 'OR', 'WV', 'WI', 'WA', 'MI', 'CA', 'IL', 'VA', 'DE', 'NY', 'NV', 'SD', 'LA', 'UT', 'TX', 'MN', 'MO', 'SC', 'GA', 'NC', 'TN', 'IA', 'OH', 'IN', 'CT', 'MS', 'AR', 'HI', 'OK', 'NJ', 'ID', 'AZ', 'VT', 'NE', 'CO', 'AK', 'AL', 'KS', 'ND', 'RI', 'NH', 'WY', 'MT', 'ME']\n",
    "# PR, DC removed because of data issues"
   ]
  },
  {
   "cell_type": "code",
   "execution_count": null,
   "id": "46211e64",
   "metadata": {},
   "outputs": [],
   "source": [
    "def cut_by_state(frame):\n",
    "    ''' Divide a dataframe into a dictionary of 50 dataframes by state the inmate was living in at the time of arrest. '''\n",
    "    statewise_dict = {}\n",
    "    for state in list_state_codes:\n",
    "        subset = frame.query(f'V0772 == \"{state}\"')\n",
    "        statewise_dict[state] = subset\n",
    "        \n",
    "    return statewise_dict\n",
    "        "
   ]
  },
  {
   "cell_type": "code",
   "execution_count": null,
   "id": "e3f404e4",
   "metadata": {
    "scrolled": false
   },
   "outputs": [],
   "source": [
    "lgbtq_bs = cut_by_state(lgbtq_data)"
   ]
  },
  {
   "cell_type": "markdown",
   "id": "c4ddefef",
   "metadata": {},
   "source": [
    "Calculate the LGBTQ overrepresentation index for each state.\n",
    "\n",
    "The OverRepresetnation Ratio is meant to measure how much more likely an LGBTQ person is to be incarcerated in a given\n",
    "state than a member of the general population. It's made of the following factors:"
   ]
  },
  {
   "cell_type": "code",
   "execution_count": null,
   "id": "727789c0",
   "metadata": {},
   "outputs": [],
   "source": [
    "''' Read in data needed for the ORR '''\n",
    "\n",
    "state_lgbt = pandas.read_csv(\"pop_counts/lbgt_percent_by_state.csv\")\n",
    "\n",
    "state_pops = pandas.read_csv(\"pop_counts/state_pops.csv\")\n",
    "\n",
    "state_incs = pandas.read_csv(\"pop_counts/total_incarcerated_by_state.csv\")"
   ]
  },
  {
   "cell_type": "code",
   "execution_count": null,
   "id": "f3769d87",
   "metadata": {},
   "outputs": [],
   "source": [
    "'''OverRepresentation Ratio, measures proportion of \n",
    "LGBTQ prisoners in sample to ordinary prisoners.\n",
    "\n",
    "Note that these values are unweighted, and so must be used with care. \n",
    "\n",
    "a - number self-reported lgbtq people in sample in state\n",
    "N - number sampled in state\n",
    "L - estimated proportion lgbtq in state\n",
    "\n",
    "o = (a/N) / L\n",
    "\n",
    "'''\n",
    "\n",
    "orr_bs = {}\n",
    "vars_bs = {}\n",
    "\n",
    "sample_min = 20\n",
    "\n",
    "for state in list_state_codes:\n",
    "    a = len(lgbtq_bs[state])\n",
    "    L = float(state_lgbt.query(f'State == \"{state}\"')['Estimated Percent LGBT']) / 100\n",
    "    I = int(state_incs.query(f'State == \"{state}\"')['Incarcerated'])\n",
    "    #P = int(state_pops.query(f'Label == \"{state}\"')['Total'])\n",
    "    N = len(dataset.query(f'V0772 == \"{state}\"'))\n",
    "    \n",
    "    if N < sample_min:\n",
    "        a = 0\n",
    "    else:\n",
    "        vars_bs[f'{state}'] = [(a/N), L, ((a/N) / L),(N/I)]\n",
    "    \n",
    "    orr_bs[f'{state}'] = (a/N) / L\n",
    "    "
   ]
  },
  {
   "cell_type": "code",
   "execution_count": null,
   "id": "e94a8cea",
   "metadata": {
    "scrolled": true
   },
   "outputs": [],
   "source": [
    "for state in sorted(orr_bs, key=orr_bs.get, reverse=True):\n",
    "    print(f\"{state}: {orr_bs[state]}\")\n",
    "        \n"
   ]
  },
  {
   "cell_type": "code",
   "execution_count": null,
   "id": "e989e36d",
   "metadata": {},
   "outputs": [],
   "source": [
    "rep_plot_frame = pandas.DataFrame.from_dict(vars_bs, orient='index', columns = ['incar', 'general', 'orr', 'rratio'])"
   ]
  },
  {
   "cell_type": "code",
   "execution_count": null,
   "id": "b5cadbb4",
   "metadata": {
    "scrolled": false
   },
   "outputs": [],
   "source": [
    "rep_plot_frame.plot.box()"
   ]
  },
  {
   "cell_type": "code",
   "execution_count": null,
   "id": "a48274c9",
   "metadata": {
    "scrolled": false
   },
   "outputs": [],
   "source": [
    "rep_plot_frame.plot.scatter(x='general', y='incar', c='rratio', colormap='jet_r')"
   ]
  },
  {
   "cell_type": "code",
   "execution_count": null,
   "id": "b08f1b06",
   "metadata": {
    "scrolled": true
   },
   "outputs": [],
   "source": [
    "rep_plot_frame.sort_values('orr',axis='index')"
   ]
  },
  {
   "cell_type": "code",
   "execution_count": null,
   "id": "efebd9be",
   "metadata": {
    "scrolled": true
   },
   "outputs": [],
   "source": [
    "''' Isolate the interquartile range. '''\n",
    "q1 = rep_plot_frame.quantile(.25)\n",
    "q3 = rep_plot_frame.quantile(.75)\n",
    "print(\"Removing: \")\n",
    "for item in rep_plot_frame.index:\n",
    "    if rep_plot_frame.at[item, 'orr'] > q3['orr'] or rep_plot_frame.at[item, 'orr'] < q1['orr']:\n",
    "        print(item)\n",
    "        rep_plot_frame.at[item] = None"
   ]
  },
  {
   "cell_type": "code",
   "execution_count": null,
   "id": "4297f747",
   "metadata": {
    "scrolled": true
   },
   "outputs": [],
   "source": [
    "rep_plot_frame.plot.scatter(x='general', y='incar', c='rratio', colormap='jet_r')"
   ]
  },
  {
   "cell_type": "code",
   "execution_count": null,
   "id": "bd526ae1",
   "metadata": {
    "scrolled": true
   },
   "outputs": [],
   "source": [
    "rep_plot_frame.sort_values('orr',axis='index')"
   ]
  },
  {
   "cell_type": "code",
   "execution_count": null,
   "id": "754d1bb7",
   "metadata": {},
   "outputs": [],
   "source": []
  }
 ],
 "metadata": {
  "kernelspec": {
   "display_name": "Python 3",
   "language": "python",
   "name": "python3"
  },
  "language_info": {
   "codemirror_mode": {
    "name": "ipython",
    "version": 3
   },
   "file_extension": ".py",
   "mimetype": "text/x-python",
   "name": "python",
   "nbconvert_exporter": "python",
   "pygments_lexer": "ipython3",
   "version": "3.8.10"
  }
 },
 "nbformat": 4,
 "nbformat_minor": 5
}
