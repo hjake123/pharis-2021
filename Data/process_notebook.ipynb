{
 "cells": [
  {
   "cell_type": "code",
   "execution_count": 1,
   "id": "92bdf682",
   "metadata": {},
   "outputs": [],
   "source": [
    "import pandas\n",
    "\n",
    "dataset = pandas.read_table(\"ICPSR_37692/DS0002/37692-0002-Data.tsv\", low_memory=False)"
   ]
  },
  {
   "cell_type": "code",
   "execution_count": 2,
   "id": "4592447e",
   "metadata": {},
   "outputs": [],
   "source": [
    "def remove_indet(frame, variable_name, keep_dontknow=False, dontknow_signal=\"-1\"):\n",
    "    ''' \n",
    "    Removes entries from the dataframe for which the given variables has a negative, indeterminate value.\n",
    "    When keep_dontknow is true, it preserves entries for which the value was \"-1\", which is used in the data as a generic\n",
    "    \"don't know\" signal. That operation does not preserve order.\n",
    "    '''\n",
    "    neg_mask = frame[f'{variable_name}'].str[0] == \"-\"\n",
    "    if keep_dontknow:\n",
    "        frame1 = frame.query('not @neg_mask')\n",
    "        frame2 = frame.query(f'{variable_name} == \"{dontknow_signal}\"')\n",
    "        frame = pandas.concat([frame1, frame2])\n",
    "    else:\n",
    "        frame = frame.query('not @neg_mask')\n",
    "\n",
    "    return frame\n",
    "    "
   ]
  },
  {
   "cell_type": "code",
   "execution_count": 3,
   "id": "eb0a20b1",
   "metadata": {},
   "outputs": [],
   "source": [
    "'''Select only self-identified transgender people.'''\n",
    "\n",
    "trans_data = dataset.query('V1212 == \"3\"')"
   ]
  },
  {
   "cell_type": "markdown",
   "id": "d79a0af2",
   "metadata": {},
   "source": [
    "First, we will cut the data into sets for specific interest groups."
   ]
  },
  {
   "cell_type": "code",
   "execution_count": 4,
   "id": "9059fb24",
   "metadata": {},
   "outputs": [],
   "source": [
    "'''\n",
    "Select only data on non-straight people. This excludes V1213 answer 2, \n",
    "and also people who failed to indicate sexual orientation.\n",
    "\n",
    "I include people who reported that they did not know their sexual orientation,\n",
    "either via the -1 \"Don't Know\" error coding or the 5 \"You don't know the answer.\"\n",
    "This should allow for questioning people to be included as well.\n",
    "'''\n",
    "\n",
    "lgbq_data = dataset.query('V1213 != \"2\"') \n",
    "lgbq_data = remove_indet(lgbq_data, \"V1213\", keep_dontknow=True)"
   ]
  },
  {
   "cell_type": "code",
   "execution_count": 5,
   "id": "786a8da7",
   "metadata": {},
   "outputs": [],
   "source": [
    "'''\n",
    "Select 'assigned gender non-conforming' people. I define this to mean people whose assigned sex at birth does not match\n",
    "their gender, regardless of transgender identification.\n",
    "'''\n",
    "\n",
    "agnc_data = dataset.query('V1211 != V1212')\n",
    "agnc_data = remove_indet(agnc_data, 'V1211')\n",
    "agnc_data = remove_indet(agnc_data, 'V1212', keep_dontknow=True)"
   ]
  },
  {
   "cell_type": "code",
   "execution_count": 6,
   "id": "a8657420",
   "metadata": {
    "scrolled": true
   },
   "outputs": [
    {
     "name": "stdout",
     "output_type": "stream",
     "text": [
      "20064\n",
      "29\n",
      "1843\n",
      "87\n"
     ]
    }
   ],
   "source": [
    "print(len(dataset))\n",
    "print(len(trans_data))\n",
    "print(len(lgbq_data))\n",
    "print(len(agnc_data))\n"
   ]
  },
  {
   "cell_type": "code",
   "execution_count": 39,
   "id": "d337ed13",
   "metadata": {},
   "outputs": [
    {
     "name": "stdout",
     "output_type": "stream",
     "text": [
      "1069\n"
     ]
    }
   ],
   "source": [
    "print(len(lgbq_data.query('V1213 == \"3\"')))"
   ]
  },
  {
   "cell_type": "code",
   "execution_count": 7,
   "id": "99ac1a0b",
   "metadata": {},
   "outputs": [
    {
     "data": {
      "text/plain": [
       "3.0"
      ]
     },
     "execution_count": 7,
     "metadata": {},
     "output_type": "execute_result"
    }
   ],
   "source": [
    "''' Interestingly, exactly 1 in 3 ASNC people in this population chose to label themselves transgender. '''\n",
    "len(agnc_data)/len(trans_data)"
   ]
  },
  {
   "cell_type": "code",
   "execution_count": 8,
   "id": "a5666113",
   "metadata": {
    "scrolled": true
   },
   "outputs": [
    {
     "data": {
      "text/plain": [
       "1871"
      ]
     },
     "execution_count": 8,
     "metadata": {},
     "output_type": "execute_result"
    }
   ],
   "source": [
    "''' Merge into a dataset for all lgbtq people. '''\n",
    "\n",
    "lgbtq_data = pandas.concat([lgbq_data, agnc_data]).drop_duplicates()\n",
    "len(lgbtq_data)"
   ]
  },
  {
   "cell_type": "markdown",
   "id": "8b18f018",
   "metadata": {},
   "source": [
    "Seperate these datasets by state."
   ]
  },
  {
   "cell_type": "code",
   "execution_count": 9,
   "id": "9c7e0505",
   "metadata": {},
   "outputs": [],
   "source": [
    "''' A list of all state codes given by the dataset. Invalid codes are removed. '''\n",
    "list_state_codes = ['FL', 'MD', 'PA', 'NM', 'KY', 'MA', 'OR', 'WV', 'WI', 'WA', 'MI', 'CA', 'IL', 'VA', 'DE', 'NY', 'NV', 'SD', 'LA', 'UT', 'TX', 'MN', 'MO', 'SC', 'GA', 'NC', 'TN', 'IA', 'OH', 'IN', 'CT', 'MS', 'AR', 'HI', 'OK', 'NJ', 'ID', 'AZ', 'VT', 'NE', 'CO', 'AK', 'AL', 'KS', 'ND', 'RI', 'NH', 'WY', 'MT', 'ME']\n",
    "# PR, DC removed because of data issues"
   ]
  },
  {
   "cell_type": "code",
   "execution_count": 10,
   "id": "46211e64",
   "metadata": {},
   "outputs": [],
   "source": [
    "def cut_by_state(frame):\n",
    "    ''' Divide a dataframe into a dictionary of 50 dataframes by state the inmate was living in at the time of arrest. '''\n",
    "    statewise_dict = {}\n",
    "    for state in list_state_codes:\n",
    "        subset = frame.query(f'V0772 == \"{state}\"')\n",
    "        statewise_dict[state] = subset\n",
    "        \n",
    "    return statewise_dict\n",
    "        "
   ]
  },
  {
   "cell_type": "code",
   "execution_count": 11,
   "id": "e3f404e4",
   "metadata": {
    "scrolled": false
   },
   "outputs": [],
   "source": [
    "lgbtq_bs = cut_by_state(lgbtq_data)"
   ]
  },
  {
   "cell_type": "markdown",
   "id": "c4ddefef",
   "metadata": {},
   "source": [
    "Calculate the LGBTQ overrepresentation index for each state.\n",
    "\n",
    "The OverRepresetnation Index is meant to measure how much more likely an LGBTQ person is to be incarcerated in a given\n",
    "state than a member of the general population. It's made of the following factors:"
   ]
  },
  {
   "cell_type": "code",
   "execution_count": 12,
   "id": "727789c0",
   "metadata": {},
   "outputs": [],
   "source": [
    "''' Read in data needed for the ORI '''\n",
    "\n",
    "state_lgbt = pandas.read_csv(\"pop_counts/lbgt_percent_by_state.csv\")\n",
    "\n",
    "state_pops = pandas.read_csv(\"pop_counts/state_pops.csv\")\n",
    "\n",
    "state_incs = pandas.read_csv(\"pop_counts/total_incarcerated_by_state.csv\")"
   ]
  },
  {
   "cell_type": "code",
   "execution_count": 65,
   "id": "f3769d87",
   "metadata": {},
   "outputs": [],
   "source": [
    "    \n",
    "'''OverRepresentation Index, measures proportion of \n",
    "LGBTQ prisoners in sample to LGBTQ people in the state.\n",
    "\n",
    "Note that these values are unweighted, and so must be used with care. '''\n",
    "\n",
    "ori_bs = {}\n",
    "\n",
    "for state in list_state_codes:\n",
    "    count = len(lgbtq_bs[state])\n",
    "    base = float(state_lgbt.query(f'State == \"{state}\"')['Estimated Percent LGBT']) / 100\n",
    "    ori_bs[f'{state}'] = count/base\n",
    "    \n",
    "  \n",
    "'''\n",
    "Weighting strategy:\n",
    "\n",
    "Generate a proportion of samples in each state to total samples. \n",
    "Divide it by the proportion of state to total incarcerated population.\n",
    "Multiply each ORI by that.\n",
    "\n",
    "If a state had fewer than 8 LGBTQ people, I reduce the ORI to -1.\n",
    "That's a fully arbitrary decision.\n",
    "'''\n",
    "\n",
    "\n",
    "min_replies = 8\n",
    "#len(dataset.query(f'V0772 == \"{state}\"'))\n",
    "state_pops = pandas.read_csv(\"pop_counts/state_pops.csv\")\n",
    "total = int(state_incs.query('State == \"TOTAL\"')['Incarcerated'])\n",
    "for state in list_state_codes:\n",
    "    if len(lgbtq_bs[state]) >= min_replies:\n",
    "        ori_bs[f'{state}'] *= float(total / (int(state_incs.query(f'State == \"{state}\"')['Incarcerated']) * len(dataset)))\n",
    "    else:\n",
    "        ori_bs[f'{state}'] = -1\n",
    "        \n",
    "    #print(float(sample_prop / state_prop))"
   ]
  },
  {
   "cell_type": "code",
   "execution_count": 66,
   "id": "7e713f25",
   "metadata": {},
   "outputs": [
    {
     "name": "stdout",
     "output_type": "stream",
     "text": [
      "0\n"
     ]
    }
   ],
   "source": [
    "print(len(lgbtq_bs['ME']))"
   ]
  },
  {
   "cell_type": "code",
   "execution_count": 67,
   "id": "d6531eef",
   "metadata": {
    "scrolled": false
   },
   "outputs": [
    {
     "name": "stdout",
     "output_type": "stream",
     "text": [
      "SD: 13.293114\n",
      "WV: 12.987332\n",
      "SC: 8.769473\n",
      "NM: 8.148262\n",
      "MI: 7.363237\n",
      "GA: 7.167785\n",
      "HI: 6.971913\n",
      "AR: 6.601714\n",
      "NE: 6.375494\n",
      "UT: 6.220891\n",
      "VA: 6.002270\n",
      "OK: 5.824635\n",
      "MO: 5.712325\n",
      "WI: 5.688833\n",
      "MS: 5.524033\n",
      "ID: 5.156553\n",
      "CT: 4.856518\n",
      "NV: 4.704456\n",
      "KS: 4.670481\n",
      "LA: 4.412755\n",
      "KY: 4.064724\n",
      "NC: 3.969236\n",
      "IN: 3.935125\n",
      "TN: 3.540186\n",
      "DE: 3.498869\n",
      "AL: 3.049353\n",
      "MD: 2.953462\n",
      "OR: 2.691568\n",
      "IA: 2.624395\n",
      "OH: 2.464632\n",
      "MA: 2.424528\n",
      "IL: 2.215431\n",
      "AZ: 2.094678\n",
      "PA: 2.024892\n",
      "NY: 2.001957\n",
      "TX: 1.716801\n",
      "NJ: 1.491901\n",
      "FL: 1.434350\n",
      "WA: 1.182086\n",
      "CA: 1.041071\n",
      "CO: 0.931378\n",
      "MN: 0.911463\n",
      "VT: -1.000000\n",
      "AK: -1.000000\n",
      "ND: -1.000000\n",
      "RI: -1.000000\n",
      "NH: -1.000000\n",
      "WY: -1.000000\n",
      "MT: -1.000000\n",
      "ME: -1.000000\n"
     ]
    }
   ],
   "source": [
    "for state in sorted(ori_bs, key=ori_bs.get, reverse=True):\n",
    "    print(f\"{state}: {ori_bs[state]:2f}\")"
   ]
  },
  {
   "cell_type": "code",
   "execution_count": 24,
   "id": "330b708a",
   "metadata": {},
   "outputs": [
    {
     "data": {
      "text/plain": [
       "6.375494127683192"
      ]
     },
     "execution_count": 24,
     "metadata": {},
     "output_type": "execute_result"
    }
   ],
   "source": [
    "ori_bs[\"NE\"]"
   ]
  },
  {
   "cell_type": "code",
   "execution_count": 16,
   "id": "c1906f91",
   "metadata": {},
   "outputs": [],
   "source": [
    "import geopandas as geop\n",
    "\n",
    "state_shapes = geop.read_file(\"shapedata/USA_adm1.shp\")"
   ]
  },
  {
   "cell_type": "code",
   "execution_count": 17,
   "id": "1ff08191",
   "metadata": {},
   "outputs": [
    {
     "data": {
      "text/plain": [
       "geopandas.geodataframe.GeoDataFrame"
      ]
     },
     "execution_count": 17,
     "metadata": {},
     "output_type": "execute_result"
    }
   ],
   "source": [
    "type(state_shapes)"
   ]
  },
  {
   "cell_type": "code",
   "execution_count": null,
   "id": "b923b25d",
   "metadata": {},
   "outputs": [],
   "source": []
  }
 ],
 "metadata": {
  "kernelspec": {
   "display_name": "Python 3",
   "language": "python",
   "name": "python3"
  },
  "language_info": {
   "codemirror_mode": {
    "name": "ipython",
    "version": 3
   },
   "file_extension": ".py",
   "mimetype": "text/x-python",
   "name": "python",
   "nbconvert_exporter": "python",
   "pygments_lexer": "ipython3",
   "version": "3.8.10"
  }
 },
 "nbformat": 4,
 "nbformat_minor": 5
}
