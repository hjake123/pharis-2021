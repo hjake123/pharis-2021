{
 "cells": [
  {
   "cell_type": "code",
   "execution_count": 1,
   "id": "92bdf682",
   "metadata": {},
   "outputs": [],
   "source": [
    "import pandas\n",
    "\n",
    "dataset = pandas.read_table(\"ICPSR_37692/DS0001/37692-0001-Data.tsv\", low_memory=False)\n",
    "# dataset.drop_duplicates() -- Removed because there are no duplicate values."
   ]
  },
  {
   "cell_type": "code",
   "execution_count": 2,
   "id": "4592447e",
   "metadata": {},
   "outputs": [],
   "source": [
    "def remove_indet(frame, variable_name, keep_dontknow=False, dontknow_signal=\"-1\"):\n",
    "    ''' \n",
    "    Removes entries from the dataframe for which the given variables has a negative, indeterminate value.\n",
    "    When keep_dontknow is true, it preserves entries for which the value was \"-1\", which is used in the data as a generic\n",
    "    \"don't know\" signal. That operation does not preserve order.\n",
    "    '''\n",
    "    neg_mask = frame[f'{variable_name}'].str[0] == \"-\"\n",
    "    if keep_dontknow:\n",
    "        frame1 = frame.query('not @neg_mask')\n",
    "        frame2 = frame.query(f'{variable_name} == \"{dontknow_signal}\"')\n",
    "        frame = pandas.concat([frame1, frame2])\n",
    "    else:\n",
    "        frame = frame.query('not @neg_mask')\n",
    "\n",
    "    return frame\n",
    "    "
   ]
  },
  {
   "cell_type": "markdown",
   "id": "d79a0af2",
   "metadata": {},
   "source": [
    "First, we will cut the data into sets for specific groups of interest."
   ]
  },
  {
   "cell_type": "code",
   "execution_count": 3,
   "id": "eb0a20b1",
   "metadata": {},
   "outputs": [],
   "source": [
    "'''Select only self-identified transgender people.'''\n",
    "\n",
    "trans_data = dataset.query('V1212 == \"3\"')"
   ]
  },
  {
   "cell_type": "code",
   "execution_count": 4,
   "id": "9059fb24",
   "metadata": {},
   "outputs": [],
   "source": [
    "'''\n",
    "Select only data on non-straight people. This excludes V1213 answer 2, \n",
    "and also people who failed to indicate sexual orientation.\n",
    "\n",
    "I include people who reported that they did not know their sexual orientation,\n",
    "either via the -1 \"Don't Know\" error coding or the 5 \"You don't know the answer.\"\n",
    "This should allow for questioning people to be included as well.\n",
    "'''\n",
    "\n",
    "lgbq_data = dataset.query('V1213 != \"2\"') \n",
    "lgbq_data = remove_indet(lgbq_data, \"V1213\", keep_dontknow=True)"
   ]
  },
  {
   "cell_type": "code",
   "execution_count": 5,
   "id": "786a8da7",
   "metadata": {},
   "outputs": [],
   "source": [
    "'''\n",
    "Select agnc (assigned gender non-conforming) people. I define this to mean people whose assigned sex at birth does not match\n",
    "their gender, regardless of transgender identification.\n",
    "'''\n",
    "\n",
    "agnc_data = dataset.query('V1211 != V1212')\n",
    "agnc_data = remove_indet(agnc_data, 'V1211')\n",
    "agnc_data = remove_indet(agnc_data, 'V1212', keep_dontknow=True)"
   ]
  },
  {
   "cell_type": "code",
   "execution_count": 6,
   "id": "8d9e7ac2",
   "metadata": {},
   "outputs": [],
   "source": [
    "'''\n",
    "It will be handy to have a set of \"non-LGBTQ\" people: cis straight people. We'll prefix that cs. \n",
    "'''\n",
    "\n",
    "cis_data = dataset.query('V1211 == V1212')\n",
    "cs_data = cis_data.query('V1213 == \"2\"')\n",
    "cs_data = remove_indet(cs_data, 'V1212')"
   ]
  },
  {
   "cell_type": "code",
   "execution_count": 7,
   "id": "c82f8d73",
   "metadata": {},
   "outputs": [
    {
     "data": {
      "text/plain": [
       "\"\\nFor a spot of intersectional work, I'll also isolate sets of people who identify with a few distinct racial identities.\\nNote that, like for the LGBTQ community, I will be using language informed by the data I have, not my political beliefs.\\n\""
      ]
     },
     "execution_count": 7,
     "metadata": {},
     "output_type": "execute_result"
    }
   ],
   "source": [
    "'''\n",
    "For a spot of intersectional work, I'll also isolate sets of people who identify with a few distinct racial identities.\n",
    "Note that, like for the LGBTQ community, I will be using language informed by the data I have, not my political beliefs.\n",
    "'''\n",
    "\n"
   ]
  },
  {
   "cell_type": "code",
   "execution_count": 8,
   "id": "a8657420",
   "metadata": {
    "scrolled": false
   },
   "outputs": [
    {
     "name": "stdout",
     "output_type": "stream",
     "text": [
      "24848\n",
      "31\n",
      "2139\n",
      "95\n",
      "22653\n"
     ]
    }
   ],
   "source": [
    "print(len(dataset))\n",
    "print(len(trans_data))\n",
    "print(len(lgbq_data))\n",
    "print(len(agnc_data))\n",
    "print(len(cs_data))"
   ]
  },
  {
   "cell_type": "code",
   "execution_count": 9,
   "id": "99ac1a0b",
   "metadata": {},
   "outputs": [
    {
     "data": {
      "text/plain": [
       "0.3263157894736842"
      ]
     },
     "execution_count": 9,
     "metadata": {},
     "output_type": "execute_result"
    }
   ],
   "source": [
    "''' Interestingly, only about 1 in 3 ASNC people in this population chose to label themselves transgender. '''\n",
    "len(trans_data)/len(agnc_data)"
   ]
  },
  {
   "cell_type": "code",
   "execution_count": 10,
   "id": "a5666113",
   "metadata": {
    "scrolled": true
   },
   "outputs": [
    {
     "data": {
      "text/plain": [
       "2169"
      ]
     },
     "execution_count": 10,
     "metadata": {},
     "output_type": "execute_result"
    }
   ],
   "source": [
    "''' Merge into a dataset for all lgbtq people. '''\n",
    "lgbtq_data = pandas.concat([lgbq_data, agnc_data]).drop_duplicates()\n",
    "len(lgbtq_data)"
   ]
  },
  {
   "cell_type": "code",
   "execution_count": 11,
   "id": "d838230d",
   "metadata": {},
   "outputs": [
    {
     "data": {
      "text/plain": [
       "0.08729072762395364"
      ]
     },
     "execution_count": 11,
     "metadata": {},
     "output_type": "execute_result"
    }
   ],
   "source": [
    "''' Total LGBTQ rate was 8.7%, markedly higher than the US rate (~3.7%). '''\n",
    "len(lgbtq_data) / len(dataset)"
   ]
  },
  {
   "cell_type": "code",
   "execution_count": 12,
   "id": "5f7b8230",
   "metadata": {},
   "outputs": [
    {
     "name": "stdout",
     "output_type": "stream",
     "text": [
      "0.7140672782874617\n",
      "0.2530443253774963\n"
     ]
    }
   ],
   "source": [
    "''' \n",
    "71% of LGBTQ respondants identified as female, but only \n",
    "25% of the total population did. \n",
    "'''\n",
    "\n",
    "m = len(lgbtq_data.query(\"V1212 == '1'\"))\n",
    "f = len(lgbtq_data.query(\"V1212 == '2'\"))\n",
    "print(f / (m+f))\n",
    "\n",
    "m = len(dataset.query(\"V1212 == '1'\"))\n",
    "f = len(dataset.query(\"V1212 == '2'\"))\n",
    "print(f / (m+f))"
   ]
  },
  {
   "cell_type": "markdown",
   "id": "8b18f018",
   "metadata": {},
   "source": [
    "Seperate these datasets by state."
   ]
  },
  {
   "cell_type": "code",
   "execution_count": 13,
   "id": "9c7e0505",
   "metadata": {},
   "outputs": [],
   "source": [
    "''' A list of all state codes present in the dataset. Invalid codes are removed. '''\n",
    "list_state_codes = ['FL', 'MD', 'PA', 'NM', 'KY', 'MA', 'OR', 'WV', 'WI', 'WA', 'MI', 'CA', 'IL', 'VA', 'DE', 'NY', 'NV', 'SD', 'LA', 'UT', 'TX', 'MN', 'MO', 'SC', 'GA', 'NC', 'TN', 'IA', 'OH', 'IN', 'CT', 'MS', 'AR', 'HI', 'OK', 'NJ', 'ID', 'AZ', 'VT', 'NE', 'CO', 'AK', 'AL', 'KS', 'ND', 'RI', 'NH', 'WY', 'MT', 'ME']\n",
    "# PR, DC removed because other datasets exclude them. Too bad!"
   ]
  },
  {
   "cell_type": "code",
   "execution_count": 14,
   "id": "727789c0",
   "metadata": {},
   "outputs": [],
   "source": [
    "''' Read in data needed for the ORR '''\n",
    "\n",
    "state_lgbt = pandas.read_csv(\"pop_counts/lbgt_percent_by_state.csv\")\n",
    "\n",
    "state_incs = pandas.read_csv(\"pop_counts/total_incarcerated_by_state.csv\")"
   ]
  },
  {
   "cell_type": "code",
   "execution_count": 15,
   "id": "6fd2e3ea",
   "metadata": {},
   "outputs": [
    {
     "name": "stdout",
     "output_type": "stream",
     "text": [
      "Removing states with n < 100 or rr < 0.0025:\n",
      "KY\n",
      "WA\n",
      "DE\n",
      "UT\n",
      "MN\n",
      "NJ\n",
      "ID\n",
      "VT\n",
      "CO\n",
      "ND\n",
      "RI\n",
      "NH\n",
      "WY\n",
      "MT\n",
      "ME\n",
      "There are 35 states left in the sample.\n"
     ]
    }
   ],
   "source": [
    "''' \n",
    "Remove states with too few responses. \n",
    "For now I'll say that a state has too few responses when each contributes\n",
    "more than 1% of the total, i.e. when there are fewer than 100 responses,\n",
    "or when their response ratio is less than 0.25%\n",
    "'''\n",
    "\n",
    "true_list_state_codes = []\n",
    "\n",
    "print(\"Removing states with n < 100 or rr < 0.0025:\")\n",
    "for state in list_state_codes:\n",
    "    N = len(dataset.query(f\"V0772 == '{state}'\")) \n",
    "    I = int(state_incs.query(f'State == \"{state}\"')['Incarcerated'])\n",
    "    if N < 100 or (N/I) < 0.0025:\n",
    "        print(state)\n",
    "    else:\n",
    "        true_list_state_codes.append(state)\n",
    "\n",
    "list_state_codes = true_list_state_codes\n",
    "print(f\"There are {len(list_state_codes)} states left in the sample.\")\n"
   ]
  },
  {
   "cell_type": "code",
   "execution_count": 16,
   "id": "46211e64",
   "metadata": {},
   "outputs": [],
   "source": [
    "def cut_by_state(frame):\n",
    "    ''' Divide a dataframe into a dictionary of dataframes by state the inmate was living in at the time of arrest. '''\n",
    "    statewise_dict = {}\n",
    "    for state in list_state_codes:\n",
    "        subset = frame.query(f'V0772 == \"{state}\"')\n",
    "        statewise_dict[state] = subset\n",
    "        \n",
    "    return statewise_dict\n",
    "        "
   ]
  },
  {
   "cell_type": "code",
   "execution_count": 17,
   "id": "e3f404e4",
   "metadata": {
    "scrolled": false
   },
   "outputs": [],
   "source": [
    "lgbtq_bs = cut_by_state(lgbtq_data)"
   ]
  },
  {
   "cell_type": "code",
   "execution_count": 18,
   "id": "ae62af21",
   "metadata": {},
   "outputs": [
    {
     "name": "stdout",
     "output_type": "stream",
     "text": [
      "22760\n",
      "1896\n"
     ]
    }
   ],
   "source": [
    "''' Count responses after pruning. '''\n",
    "s = 0\n",
    "ls = 0\n",
    "for state in list_state_codes:\n",
    "    s += len(dataset.query(f'V0772 == \"{state}\"'))\n",
    "    ls += len(lgbtq_bs[state])\n",
    "\n",
    "print(s)\n",
    "print(ls)\n",
    "    "
   ]
  },
  {
   "cell_type": "markdown",
   "id": "c4ddefef",
   "metadata": {},
   "source": [
    "Calculate the LGBTQ overrepresentation index for each state.\n",
    "\n",
    "The OverRepresentation Ratio is meant to measure how much more likely an LGBTQ person is to be incarcerated in a given\n",
    "state than a member of the general population. It's made of the following factors:"
   ]
  },
  {
   "cell_type": "code",
   "execution_count": 19,
   "id": "f3769d87",
   "metadata": {},
   "outputs": [],
   "source": [
    "'''\n",
    "OverRepresentation Ratio, measures proportion of \n",
    "LGBTQ prisoners in sample to ordinary prisoners.\n",
    "\n",
    "Note that these values are unweighted, and so must be used with care. \n",
    "\n",
    "a - number self-reported lgbtq people in sample in state\n",
    "N - number sampled in state\n",
    "L - estimated proportion lgbtq in state\n",
    "\n",
    "o = (a/N) / L\n",
    "\n",
    "'''\n",
    "vars_bs = {}\n",
    "\n",
    "for state in list_state_codes:\n",
    "    a = len(lgbtq_bs[state])\n",
    "    L = float(state_lgbt.query(f'State == \"{state}\"')['Estimated Percent LGBT']) / 100\n",
    "    I = int(state_incs.query(f'State == \"{state}\"')['Incarcerated'])\n",
    "    N = len(dataset.query(f'V0772 == \"{state}\"'))\n",
    "    vars_bs[f'{state}'] = [(a/N), L, ((a/N) / L),(N/I)]"
   ]
  },
  {
   "cell_type": "code",
   "execution_count": 20,
   "id": "e989e36d",
   "metadata": {},
   "outputs": [],
   "source": [
    "rep_plot_frame = pandas.DataFrame.from_dict(vars_bs, orient='index', columns = ['incar', 'general', 'orr', 'rratio'])"
   ]
  },
  {
   "cell_type": "code",
   "execution_count": 21,
   "id": "b5cadbb4",
   "metadata": {
    "scrolled": true
   },
   "outputs": [
    {
     "data": {
      "text/plain": [
       "<AxesSubplot:>"
      ]
     },
     "execution_count": 21,
     "metadata": {},
     "output_type": "execute_result"
    },
    {
     "data": {
      "image/png": "[encoded data removed]",
      "text/plain": [
       "<Figure size 432x288 with 1 Axes>"
      ]
     },
     "metadata": {
      "needs_background": "light"
     },
     "output_type": "display_data"
    }
   ],
   "source": [
    "rep_plot_frame.plot.box()"
   ]
  },
  {
   "cell_type": "code",
   "execution_count": 62,
   "id": "a48274c9",
   "metadata": {
    "scrolled": false
   },
   "outputs": [
    {
     "data": {
      "text/plain": [
       "<AxesSubplot:xlabel='general', ylabel='incar'>"
      ]
     },
     "execution_count": 62,
     "metadata": {},
     "output_type": "execute_result"
    },
    {
     "data": {
      "image/png": "[encoded data removed]",
      "text/plain": [
       "<Figure size 432x288 with 1 Axes>"
      ]
     },
     "metadata": {
      "needs_background": "light"
     },
     "output_type": "display_data"
    }
   ],
   "source": [
    "''' There's no obvious pattern except a cluster near the lower area -- a regression may be of use. '''\n",
    "rep_plot_frame.plot.scatter(x='general', y='incar', c='black')"
   ]
  },
  {
   "cell_type": "code",
   "execution_count": 54,
   "id": "b08f1b06",
   "metadata": {
    "scrolled": true
   },
   "outputs": [
    {
     "name": "stdout",
     "output_type": "stream",
     "text": [
      "       incar   general       orr    rratio\n",
      "WV  0.191617  0.032366  5.920297  0.008308\n",
      "NE  0.166667  0.028438  5.860606  0.004378\n",
      "SD  0.126667  0.022599  5.605000  0.010000\n",
      "AR  0.085165  0.016567  5.140549  0.005049\n",
      "AK  0.075949  0.015501  4.899734  0.012248\n",
      "NM  0.167513  0.034335  4.878807  0.006523\n",
      "SC  0.128151  0.026607  4.816429  0.006919\n",
      "OK  0.133721  0.028557  4.682599  0.004617\n",
      "WI  0.112971  0.026108  4.327076  0.004756\n",
      "IN  0.144404  0.034017  4.245109  0.003465\n",
      "KS  0.094972  0.025060  3.789776  0.004649\n",
      "LA  0.111562  0.029899  3.731303  0.004441\n",
      "HI  0.129464  0.036723  3.525412  0.008145\n",
      "CT  0.108844  0.031136  3.495741  0.004933\n",
      "VA  0.104403  0.030108  3.467626  0.006625\n",
      "TN  0.088129  0.026651  3.306793  0.004657\n",
      "NC  0.098985  0.030416  3.254396  0.005278\n",
      "AL  0.092010  0.028689  3.207195  0.004138\n",
      "IA  0.084211  0.027575  3.053842  0.004069\n",
      "MD  0.094808  0.032749  2.895000  0.004475\n",
      "OH  0.095057  0.033279  2.856354  0.003225\n",
      "MS  0.072000  0.026546  2.712304  0.007657\n",
      "MO  0.077434  0.029330  2.640057  0.008536\n",
      "AZ  0.077244  0.033246  2.323392  0.003484\n",
      "GA  0.077526  0.033531  2.312064  0.012560\n",
      "OR  0.099125  0.043385  2.284758  0.004183\n",
      "NV  0.093248  0.041234  2.261438  0.007934\n",
      "MA  0.129310  0.057450  2.250849  0.004198\n",
      "PA  0.069277  0.032495  2.131936  0.003608\n",
      "TX  0.059956  0.029590  2.026219  0.004036\n",
      "IL  0.062690  0.033617  1.864794  0.004843\n",
      "NY  0.071958  0.041123  1.749831  0.004455\n",
      "MI  0.053571  0.031140  1.720315  0.015858\n",
      "CA  0.063768  0.040874  1.560127  0.003218\n",
      "FL  0.051940  0.035944  1.445044  0.004577\n",
      "\n",
      "Medians:\n",
      "incar      0.094808\n",
      "general    0.031136\n",
      "orr        3.207195\n",
      "rratio     0.004657\n",
      "dtype: float64\n"
     ]
    }
   ],
   "source": [
    "print(rep_plot_frame.sort_values('orr',axis='index', ascending=False))\n",
    "print(\"\\nMedians:\")\n",
    "print(rep_plot_frame.median())"
   ]
  },
  {
   "cell_type": "markdown",
   "id": "51b0478d",
   "metadata": {},
   "source": [
    "For comparison, I'll do the same steps to calculate an ORR for the African American community (AAORR)."
   ]
  },
  {
   "cell_type": "code",
   "execution_count": 36,
   "id": "14f2e92f",
   "metadata": {},
   "outputs": [],
   "source": [
    "''' Read in race proportion estimates from each state. '''\n",
    "\n",
    "state_racial = pandas.read_csv(\"pop_counts/race_by_state.csv\")"
   ]
  },
  {
   "cell_type": "code",
   "execution_count": 46,
   "id": "b672a90f",
   "metadata": {},
   "outputs": [
    {
     "name": "stdout",
     "output_type": "stream",
     "text": [
      "9403\n"
     ]
    }
   ],
   "source": [
    "aa_data = dataset.query('V1953 == 1')\n",
    "print(len(aa_data))\n",
    "aa_bs = cut_by_state(aa_data)"
   ]
  },
  {
   "cell_type": "code",
   "execution_count": 47,
   "id": "c6ced721",
   "metadata": {},
   "outputs": [],
   "source": [
    "aa_vars_bs = {}\n",
    "\n",
    "for state in list_state_codes:\n",
    "    aa = len(aa_bs[state])\n",
    "    AA = float(state_racial.query(f'Label == \"{state}\"')['Black or African American'])\n",
    "    I = int(state_incs.query(f'State == \"{state}\"')['Incarcerated'])\n",
    "    N = len(dataset.query(f'V0772 == \"{state}\"'))\n",
    "    aa_vars_bs[f'{state}'] = [(aa/N), AA, ((aa/N) / AA), (N/I)]\n",
    "    \n",
    "aa_rep_plot_frame = pandas.DataFrame.from_dict(aa_vars_bs, orient='index', columns = ['incar', 'general', 'aaorr', 'rratio'])"
   ]
  },
  {
   "cell_type": "code",
   "execution_count": 65,
   "id": "5a68d368",
   "metadata": {},
   "outputs": [
    {
     "data": {
      "text/plain": [
       "<AxesSubplot:>"
      ]
     },
     "execution_count": 65,
     "metadata": {},
     "output_type": "execute_result"
    },
    {
     "data": {
      "image/png": "[encoded data removed]",
      "text/plain": [
       "<Figure size 432x288 with 1 Axes>"
      ]
     },
     "metadata": {
      "needs_background": "light"
     },
     "output_type": "display_data"
    }
   ],
   "source": [
    "aa_rep_plot_frame.plot.box()"
   ]
  },
  {
   "cell_type": "code",
   "execution_count": 61,
   "id": "d57ac169",
   "metadata": {
    "scrolled": true
   },
   "outputs": [
    {
     "data": {
      "text/plain": [
       "<AxesSubplot:xlabel='general', ylabel='incar'>"
      ]
     },
     "execution_count": 61,
     "metadata": {},
     "output_type": "execute_result"
    },
    {
     "data": {
      "image/png": "[encoded data removed]",
      "text/plain": [
       "<Figure size 432x288 with 1 Axes>"
      ]
     },
     "metadata": {
      "needs_background": "light"
     },
     "output_type": "display_data"
    }
   ],
   "source": [
    "''' There is a clear positive correlation between general AA population and AA prison overrepresentation. '''\n",
    "aa_rep_plot_frame.plot.scatter(x='general', y='incar', c='black')"
   ]
  },
  {
   "cell_type": "code",
   "execution_count": 53,
   "id": "b934a751",
   "metadata": {},
   "outputs": [
    {
     "name": "stdout",
     "output_type": "stream",
     "text": [
      "       incar  general     aaorr    rratio\n",
      "IA  0.194737    0.043  4.528764  0.004069\n",
      "AK  0.221519    0.051  4.343510  0.012248\n",
      "WI  0.299163    0.073  4.098126  0.004756\n",
      "CA  0.286377    0.070  4.091097  0.003218\n",
      "NE  0.205882    0.057  3.611971  0.004378\n",
      "KS  0.262570    0.073  3.596847  0.004649\n",
      "MA  0.310345    0.089  3.487021  0.004198\n",
      "IL  0.532861    0.153  3.482755  0.004843\n",
      "WV  0.149701    0.043  3.481409  0.008308\n",
      "PA  0.423193    0.123  3.440592  0.003608\n",
      "OR  0.084548    0.027  3.131411  0.004183\n",
      "MI  0.474330    0.152  3.120594  0.015858\n",
      "NY  0.516402    0.170  3.037660  0.004455\n",
      "OH  0.417300    0.138  3.023916  0.003225\n",
      "NV  0.279743    0.101  2.769730  0.007934\n",
      "CT  0.323129    0.119  2.715372  0.004933\n",
      "VA  0.542138    0.208  2.606434  0.006625\n",
      "MO  0.324115    0.127  2.552087  0.008536\n",
      "FL  0.440000    0.174  2.528736  0.004577\n",
      "TN  0.446043    0.178  2.505860  0.004657\n",
      "SD  0.060000    0.024  2.500000  0.010000\n",
      "IN  0.259928    0.104  2.499306  0.003465\n",
      "OK  0.209302    0.090  2.325581  0.004617\n",
      "TX  0.288517    0.129  2.236569  0.004036\n",
      "NC  0.506345    0.229  2.211114  0.005278\n",
      "AZ  0.116910    0.053  2.205853  0.003484\n",
      "AL  0.576271    0.273  2.110883  0.004138\n",
      "NM  0.055838    0.027  2.068058  0.006523\n",
      "AR  0.321429    0.163  1.971954  0.005049\n",
      "MD  0.618510    0.314  1.969778  0.004475\n",
      "LA  0.645030    0.331  1.948732  0.004441\n",
      "HI  0.058036    0.033  1.758658  0.008145\n",
      "SC  0.500000    0.285  1.754386  0.006919\n",
      "GA  0.564460    0.324  1.742160  0.012560\n",
      "MS  0.548000    0.382  1.434555  0.007657\n",
      "\n",
      "Medians:\n",
      "incar      0.321429\n",
      "general    0.123000\n",
      "aaorr      2.552087\n",
      "rratio     0.004657\n",
      "dtype: float64\n"
     ]
    }
   ],
   "source": [
    "print(aa_rep_plot_frame.sort_values('aaorr',axis='index', ascending=False))\n",
    "print(\"\\nMedians:\")\n",
    "print(aa_rep_plot_frame.median())"
   ]
  },
  {
   "cell_type": "markdown",
   "id": "1994ee7a",
   "metadata": {},
   "source": [
    "Now I will attempt to calculate the AORR (AGNC ORR, ORR but for Assigned Gender Non-Conforming indiviuals) and the TORR (Transgender ORR).\n",
    "The main difference is that the TORR includes only people who answered \"transgender\" as their gender identity\n",
    "while the AORR includes those who indicated any other gender than their assigned sex at birth, including \"don't know\"."
   ]
  },
  {
   "cell_type": "code",
   "execution_count": 24,
   "id": "7d9e29ca",
   "metadata": {},
   "outputs": [],
   "source": [
    "''' Read in transgender proportion estimates from each state. '''\n",
    "\n",
    "state_trans = pandas.read_csv(\"pop_counts/transgender_by_state.csv\")"
   ]
  },
  {
   "cell_type": "code",
   "execution_count": 71,
   "id": "470bb828",
   "metadata": {},
   "outputs": [],
   "source": [
    "agnc_bs = cut_by_state(agnc_data)\n",
    "trans_bs = cut_by_state(trans_data)\n",
    "\n",
    "at_vars_bs = {}\n",
    "\n",
    "for state in list_state_codes:\n",
    "    a = len(agnc_bs[state])\n",
    "    t = len(trans_bs[state])\n",
    "    T = float(state_trans.query(f'State == \"{state}\"')['Proportion']) # This is a falsely named column: it's actually proportion, not percentage. \n",
    "    I = int(state_incs.query(f'State == \"{state}\"')['Incarcerated'])\n",
    "    N = len(dataset.query(f'V0772 == \"{state}\"'))\n",
    "    \n",
    "    if a > 3:\n",
    "        at_vars_bs[f'{state}'] = [(a/N), T, ((a/N) / T), ((t/N) / T), (N/I)]\n",
    "    \n",
    "agnc_rep_plot_frame = pandas.DataFrame.from_dict(at_vars_bs, orient='index', columns = ['incar', 'general', 'aorr', 'torr', 'rratio'])"
   ]
  },
  {
   "cell_type": "code",
   "execution_count": 26,
   "id": "3605b8a1",
   "metadata": {
    "scrolled": true
   },
   "outputs": [
    {
     "name": "stdout",
     "output_type": "stream",
     "text": [
      "       incar  general      aorr      torr    rratio\n",
      "SC  0.008403   0.0040  2.100840  0.000000  0.006919\n",
      "OH  0.004753   0.0034  1.397898  0.559159  0.003225\n",
      "CA  0.007536   0.0055  1.370224  0.737813  0.003218\n",
      "PA  0.003012   0.0034  0.885897  0.221474  0.003608\n",
      "GA  0.004355   0.0051  0.854000  0.000000  0.012560\n",
      "TX  0.002544   0.0042  0.605620  0.259551  0.004036\n"
     ]
    }
   ],
   "source": [
    "print(agnc_rep_plot_frame.sort_values('aorr',axis='index', ascending=False))"
   ]
  },
  {
   "cell_type": "markdown",
   "id": "20b58c38",
   "metadata": {},
   "source": [
    "As we can see, there is not enough data on agnc or trans individuals to do this effectively."
   ]
  },
  {
   "cell_type": "markdown",
   "id": "cee1fce2",
   "metadata": {},
   "source": [
    "Moving swiftly on, then, I will next check the gender disparity between the LGBTQ and non-LGBTQ prison populations. Evidently, it's quite large, but let's look at it by state. Note: we are *NOT* checking against the general state populations in this step."
   ]
  },
  {
   "cell_type": "code",
   "execution_count": 27,
   "id": "4acce5a3",
   "metadata": {},
   "outputs": [],
   "source": [
    "cs_bs = cut_by_state(cs_data)"
   ]
  },
  {
   "cell_type": "code",
   "execution_count": 28,
   "id": "247a4d97",
   "metadata": {},
   "outputs": [],
   "source": [
    "gd_vars_bs = {}\n",
    "\n",
    "for state in list_state_codes:\n",
    "    csf = len(cs_bs[state].query(\"V1212 == '2'\")) / len(cs_bs[state])\n",
    "    qf = len(lgbtq_bs[state].query('V1212 == \"2\"')) / len(lgbtq_bs[state])\n",
    "    gd_vars_bs[state] = [csf, qf]\n",
    "    \n",
    "gd_plot_frame = pandas.DataFrame.from_dict(gd_vars_bs, orient='index', columns = ['cs_fem_prop', 'lgbtq_fem_prop'])"
   ]
  },
  {
   "cell_type": "code",
   "execution_count": 29,
   "id": "adcdf5d4",
   "metadata": {},
   "outputs": [
    {
     "data": {
      "text/plain": [
       "<AxesSubplot:>"
      ]
     },
     "execution_count": 29,
     "metadata": {},
     "output_type": "execute_result"
    },
    {
     "data": {
      "image/png": "[encoded data removed]",
      "text/plain": [
       "<Figure size 432x288 with 1 Axes>"
      ]
     },
     "metadata": {
      "needs_background": "light"
     },
     "output_type": "display_data"
    }
   ],
   "source": [
    "''' Across the board, more of the LGBTQ prison population is female than the cis straight prison population. '''\n",
    "gd_plot_frame.plot.box()"
   ]
  },
  {
   "cell_type": "code",
   "execution_count": 30,
   "id": "8c036c2e",
   "metadata": {},
   "outputs": [
    {
     "data": {
      "text/plain": [
       "<AxesSubplot:xlabel='cs_fem_prop', ylabel='lgbtq_fem_prop'>"
      ]
     },
     "execution_count": 30,
     "metadata": {},
     "output_type": "execute_result"
    },
    {
     "data": {
      "image/png": "[encoded data removed]",
      "text/plain": [
       "<Figure size 432x288 with 1 Axes>"
      ]
     },
     "metadata": {
      "needs_background": "light"
     },
     "output_type": "display_data"
    }
   ],
   "source": [
    "''' Unsurprisingly, prisons with more cis straight females have more lgbtq females also. '''\n",
    "gd_plot_frame.plot.scatter(x='cs_fem_prop', y='lgbtq_fem_prop', c='black')"
   ]
  },
  {
   "cell_type": "code",
   "execution_count": 72,
   "id": "e3c45d44",
   "metadata": {},
   "outputs": [],
   "source": [
    "'''\n",
    "Combine the frames so far to allow for more interesting comparisons.\n",
    "'''\n",
    "\n",
    "prime_plot_frame = rep_plot_frame.join(gd_plot_frame, how=\"left\").join(aa_rep_plot_frame['aaorr'], how=\"left\").join(agnc_rep_plot_frame['aorr'], how=\"left\")"
   ]
  },
  {
   "cell_type": "code",
   "execution_count": 73,
   "id": "70996539",
   "metadata": {
    "scrolled": true
   },
   "outputs": [
    {
     "data": {
      "text/plain": [
       "<AxesSubplot:xlabel='orr', ylabel='lgbtq_fem_prop'>"
      ]
     },
     "execution_count": 73,
     "metadata": {},
     "output_type": "execute_result"
    },
    {
     "data": {
      "image/png": "[encoded data removed]",
      "text/plain": [
       "<Figure size 432x288 with 1 Axes>"
      ]
     },
     "metadata": {
      "needs_background": "light"
     },
     "output_type": "display_data"
    }
   ],
   "source": [
    "'''\n",
    "One can observe a positive correlation between the proportion of LGBTQ female inmates (to non-female LGBTQ inmates)\n",
    "and the ORR.\n",
    "'''\n",
    "prime_plot_frame.plot.scatter(x=\"orr\", y=\"lgbtq_fem_prop\", color=\"black\")"
   ]
  },
  {
   "cell_type": "code",
   "execution_count": 74,
   "id": "7181c38f",
   "metadata": {
    "scrolled": true
   },
   "outputs": [
    {
     "data": {
      "text/plain": [
       "<AxesSubplot:xlabel='orr', ylabel='cs_fem_prop'>"
      ]
     },
     "execution_count": 74,
     "metadata": {},
     "output_type": "execute_result"
    },
    {
     "data": {
      "image/png": "[encoded data removed]",
      "text/plain": [
       "<Figure size 432x288 with 1 Axes>"
      ]
     },
     "metadata": {
      "needs_background": "light"
     },
     "output_type": "display_data"
    }
   ],
   "source": [
    "'''\n",
    "There is another such correlation between the orr and the cis straight female proportion, interestingly.\n",
    "'''\n",
    "prime_plot_frame.plot.scatter(x=\"orr\", y=\"cs_fem_prop\", color=\"black\")"
   ]
  },
  {
   "cell_type": "code",
   "execution_count": 78,
   "id": "1b37ef02",
   "metadata": {},
   "outputs": [
    {
     "data": {
      "text/plain": [
       "<AxesSubplot:xlabel='orr', ylabel='aaorr'>"
      ]
     },
     "execution_count": 78,
     "metadata": {},
     "output_type": "execute_result"
    },
    {
     "data": {
      "image/png": "[encoded data removed]",
      "text/plain": [
       "<Figure size 432x288 with 1 Axes>"
      ]
     },
     "metadata": {
      "needs_background": "light"
     },
     "output_type": "display_data"
    }
   ],
   "source": [
    "''' There is no clear relation between the aaorr and the orr. Regression? '''\n",
    "prime_plot_frame.plot.scatter(x=\"orr\", y=\"aaorr\", color=\"black\")"
   ]
  },
  {
   "cell_type": "code",
   "execution_count": 77,
   "id": "27a1be08",
   "metadata": {},
   "outputs": [
    {
     "data": {
      "text/plain": [
       "<AxesSubplot:xlabel='orr', ylabel='aorr'>"
      ]
     },
     "execution_count": 77,
     "metadata": {},
     "output_type": "execute_result"
    },
    {
     "data": {
      "image/png": "[encoded data removed]",
      "text/plain": [
       "<Figure size 432x288 with 1 Axes>"
      ]
     },
     "metadata": {
      "needs_background": "light"
     },
     "output_type": "display_data"
    }
   ],
   "source": [
    "''' Again, hard to say much about the aorr since there is so little data on it. Vague positive correlation? '''\n",
    "prime_plot_frame.plot.scatter(x=\"orr\", y=\"aorr\", color=\"black\")"
   ]
  },
  {
   "cell_type": "markdown",
   "id": "ff5ce0f5",
   "metadata": {},
   "source": [
    "TODO LIST\n",
    "\n",
    "- Find a few more indexes, maybe about treatment or conditions in the prison.\n",
    "- Start comparing with demographics like you meant to do from the start."
   ]
  }
 ],
 "metadata": {
  "kernelspec": {
   "display_name": "Python 3",
   "language": "python",
   "name": "python3"
  },
  "language_info": {
   "codemirror_mode": {
    "name": "ipython",
    "version": 3
   },
   "file_extension": ".py",
   "mimetype": "text/x-python",
   "name": "python",
   "nbconvert_exporter": "python",
   "pygments_lexer": "ipython3",
   "version": "3.8.10"
  }
 },
 "nbformat": 4,
 "nbformat_minor": 5
}
