{
 "cells": [
  {
   "cell_type": "code",
   "execution_count": 1,
   "id": "92bdf682",
   "metadata": {},
   "outputs": [],
   "source": [
    "import pandas\n",
    "\n",
    "dataset = pandas.read_table(\"ICPSR_37692/DS0002/37692-0002-Data.tsv\", low_memory=False)"
   ]
  },
  {
   "cell_type": "code",
   "execution_count": 2,
   "id": "4592447e",
   "metadata": {},
   "outputs": [],
   "source": [
    "def remove_indet(frame, variable_name, keep_dontknow=False, dontknow_signal=\"-1\"):\n",
    "    ''' \n",
    "    Removes entries from the dataframe for which the given variables has a negative, indeterminate value.\n",
    "    When keep_dontknow is true, it preserves entries for which the value was \"-1\", which is used in the data as a generic\n",
    "    \"don't know\" signal. That operation does not preserve order.\n",
    "    '''\n",
    "    neg_mask = frame[f'{variable_name}'].str[0] == \"-\"\n",
    "    if keep_dontknow:\n",
    "        frame1 = frame.query('not @neg_mask')\n",
    "        frame2 = frame.query(f'{variable_name} == \"{dontknow_signal}\"')\n",
    "        frame = pandas.concat([frame1, frame2])\n",
    "    else:\n",
    "        frame = frame.query('not @neg_mask')\n",
    "\n",
    "    return frame\n",
    "    "
   ]
  },
  {
   "cell_type": "code",
   "execution_count": 3,
   "id": "eb0a20b1",
   "metadata": {},
   "outputs": [],
   "source": [
    "'''Select only self-identified transgender people.'''\n",
    "\n",
    "trans_data = dataset.query('V1212 == \"3\"')"
   ]
  },
  {
   "cell_type": "markdown",
   "id": "d79a0af2",
   "metadata": {},
   "source": [
    "First, we will cut the data into sets for specific interest groups."
   ]
  },
  {
   "cell_type": "code",
   "execution_count": 4,
   "id": "9059fb24",
   "metadata": {},
   "outputs": [],
   "source": [
    "'''\n",
    "Select only data on non-straight people. This excludes V1213 answer 2, \n",
    "and also people who failed to indicate sexual orientation.\n",
    "\n",
    "I include people who reported that they did not know their sexual orientation,\n",
    "either via the -1 \"Don't Know\" error coding or the 5 \"You don't know the answer.\"\n",
    "This should allow for questioning people to be included as well.\n",
    "'''\n",
    "\n",
    "lgbq_data = dataset.query('V1213 != \"2\"') \n",
    "lgbq_data = remove_indet(lgbq_data, \"V1213\", keep_dontknow=True)"
   ]
  },
  {
   "cell_type": "code",
   "execution_count": 5,
   "id": "786a8da7",
   "metadata": {},
   "outputs": [],
   "source": [
    "'''\n",
    "Select 'assigned gender non-conforming' people. I define this to mean people whose assigned sex at birth does not match\n",
    "their gender, regardless of transgender identification.\n",
    "'''\n",
    "\n",
    "agnc_data = dataset.query('V1211 != V1212')\n",
    "agnc_data = remove_indet(agnc_data, 'V1211')\n",
    "agnc_data = remove_indet(agnc_data, 'V1212', keep_dontknow=True)"
   ]
  },
  {
   "cell_type": "code",
   "execution_count": 6,
   "id": "a8657420",
   "metadata": {
    "scrolled": true
   },
   "outputs": [
    {
     "name": "stdout",
     "output_type": "stream",
     "text": [
      "20064\n",
      "29\n",
      "1843\n",
      "87\n"
     ]
    }
   ],
   "source": [
    "print(len(dataset))\n",
    "print(len(trans_data))\n",
    "print(len(lgbq_data))\n",
    "print(len(agnc_data))\n"
   ]
  },
  {
   "cell_type": "code",
   "execution_count": 7,
   "id": "99ac1a0b",
   "metadata": {},
   "outputs": [
    {
     "data": {
      "text/plain": [
       "3.0"
      ]
     },
     "execution_count": 7,
     "metadata": {},
     "output_type": "execute_result"
    }
   ],
   "source": [
    "''' Interestingly, exactly 1 in 3 ASNC people in this population chose to label themselves transgender. '''\n",
    "len(agnc_data)/len(trans_data)"
   ]
  },
  {
   "cell_type": "code",
   "execution_count": 8,
   "id": "a5666113",
   "metadata": {
    "scrolled": true
   },
   "outputs": [
    {
     "data": {
      "text/plain": [
       "1871"
      ]
     },
     "execution_count": 8,
     "metadata": {},
     "output_type": "execute_result"
    }
   ],
   "source": [
    "''' Merge into a dataset for all lgbtq people. '''\n",
    "\n",
    "lgbtq_data = pandas.concat([lgbq_data, agnc_data]).drop_duplicates()\n",
    "len(lgbtq_data)"
   ]
  },
  {
   "cell_type": "markdown",
   "id": "8b18f018",
   "metadata": {},
   "source": [
    "Seperate these datasets by state."
   ]
  },
  {
   "cell_type": "code",
   "execution_count": 9,
   "id": "9c7e0505",
   "metadata": {},
   "outputs": [],
   "source": [
    "''' A list of all state codes given by the dataset. Invalid codes are removed. '''\n",
    "list_state_codes = ['FL', 'MD', 'PA', 'NM', 'KY', 'MA', 'OR', 'WV', 'WI', 'WA', 'MI', 'CA', 'IL', 'VA', 'DE', 'NY', 'NV', 'SD', 'LA', 'UT', 'TX', 'MN', 'MO', 'SC', 'GA', 'NC', 'TN', 'IA', 'OH', 'IN', 'CT', 'MS', 'AR', 'HI', 'OK', 'NJ', 'ID', 'AZ', 'VT', 'NE', 'CO', 'AK', 'AL', 'KS', 'DC', 'ND', 'RI', 'NH', 'WY', 'MT', 'ME']\n",
    "# PR removed because of data issues"
   ]
  },
  {
   "cell_type": "code",
   "execution_count": 10,
   "id": "46211e64",
   "metadata": {},
   "outputs": [],
   "source": [
    "def cut_by_state(frame):\n",
    "    ''' Divide a dataframe into a dictionary of 50 dataframes by state the inmate was living in at the time of arrest. '''\n",
    "    statewise_dict = {}\n",
    "    for state in list_state_codes:\n",
    "        subset = frame.query(f'V0772 == \"{state}\"')\n",
    "        statewise_dict[f'{state}'] = subset\n",
    "        \n",
    "    return statewise_dict\n",
    "        "
   ]
  },
  {
   "cell_type": "code",
   "execution_count": 11,
   "id": "e3f404e4",
   "metadata": {
    "scrolled": false
   },
   "outputs": [],
   "source": [
    "lgbtq_bs = cut_by_state(lgbtq_data)"
   ]
  },
  {
   "cell_type": "markdown",
   "id": "c4ddefef",
   "metadata": {},
   "source": [
    "Calculate the LGBTQ overrepresentation index for each state."
   ]
  },
  {
   "cell_type": "code",
   "execution_count": 12,
   "id": "424399c7",
   "metadata": {},
   "outputs": [],
   "source": [
    "''' Representation Index, measures percentage of sampled prisoners who are LGBTQ in each state. Unweighted. '''\n",
    "ri_bs = {}\n",
    "for state in list_state_codes:\n",
    "    count = len(lgbtq_bs[state])\n",
    "    base = len(dataset.query(f'V0772 == \"{state}\"'))\n",
    "    ri_bs[f'{state}'] = float(count/base)    "
   ]
  },
  {
   "cell_type": "code",
   "execution_count": 13,
   "id": "247a08a3",
   "metadata": {},
   "outputs": [],
   "source": [
    "gen_lgbt_pops = pandas.read_csv(\"pop_counts\\lbgt_percent_by_state.csv\")"
   ]
  },
  {
   "cell_type": "code",
   "execution_count": 14,
   "id": "a4b9e3b7",
   "metadata": {
    "scrolled": true
   },
   "outputs": [],
   "source": [
    "''' OverRepresentation Index, measures proportion of \n",
    "LGBTQ sampled prisoners per state to proportion of LGBTQ people in the state.\n",
    "\n",
    "Note that these values are unweighted, and so must be used with care. '''\n",
    "\n",
    "ori_bs = {}\n",
    "\n",
    "for state in list_state_codes:\n",
    "    count = ri_bs[state]\n",
    "    base = float(gen_lgbt_pops.query(f'State == \"{state}\"')['Estimated Percent LGBT']) / 100\n",
    "    ori_bs[f'{state}'] = count/base"
   ]
  },
  {
   "cell_type": "code",
   "execution_count": 15,
   "id": "b9de7730",
   "metadata": {},
   "outputs": [],
   "source": [
    "'''  \n",
    "Weighting strategy:\n",
    "\n",
    "Generate a proportion of samples in each state to total samples. \n",
    "Divide it by the proportion of state to total population.\n",
    "Multiply each ORI by that.\n",
    "'''\n",
    "\n",
    "state_pops = pandas.read_csv(\"pop_counts/state_pops.csv\")\n",
    "total = int(state_pops.query('Label == \"TOTAL\"')['Total'])\n",
    "for state in list_state_codes:\n",
    "    sample_prop = len(dataset.query(f'V0772 == \"{state}\"')) / len(dataset)\n",
    "    state_prop = int(state_pops.query(f'Label == \"{state}\"')['Total']) / total\n",
    "    ori_bs[f'{state}'] *= float(sample_prop / state_prop)\n",
    "    #print(float(sample_prop / state_prop))"
   ]
  },
  {
   "cell_type": "code",
   "execution_count": 16,
   "id": "d6531eef",
   "metadata": {
    "scrolled": true
   },
   "outputs": [
    {
     "name": "stdout",
     "output_type": "stream",
     "text": [
      "SD: 13.174850313404248\n",
      "AR: 9.108503854274867\n",
      "ID: 8.549303549197646\n",
      "AK: 8.402608209920523\n",
      "WV: 8.152206105111762\n",
      "HI: 7.674653315754212\n",
      "SC: 6.954308579221295\n",
      "MS: 6.901684027631015\n",
      "NM: 6.761894641593958\n",
      "OK: 6.324355814013718\n",
      "LA: 5.982794477945674\n",
      "MO: 5.67739892385425\n",
      "WI: 5.657571864344645\n",
      "IN: 5.424568170123626\n",
      "KY: 5.128596888018381\n",
      "VA: 4.896424681900479\n",
      "DE: 4.707396002917682\n",
      "CT: 4.627970208090686\n",
      "NE: 4.454145002480005\n",
      "OH: 3.958330153301222\n",
      "TN: 3.6341472657269174\n",
      "GA: 3.6335283308959454\n",
      "NV: 3.5868340447296996\n",
      "AL: 3.5783172430284744\n",
      "KS: 3.5367619017477647\n",
      "NC: 3.3397180553156214\n",
      "PA: 3.333994595732519\n",
      "OR: 3.083186124809978\n",
      "UT: 2.9613169522613294\n",
      "MD: 2.7790617441949923\n",
      "TX: 2.402651370108299\n",
      "MI: 2.396150114988577\n",
      "AZ: 2.3762457021920844\n",
      "IA: 2.2357475547311747\n",
      "IL: 2.020801068800316\n",
      "NJ: 1.776929173636908\n",
      "MA: 1.6873020006353563\n",
      "FL: 1.4563923148470497\n",
      "VT: 1.237655713109704\n",
      "NY: 1.2297123677601047\n",
      "WA: 1.1779205681437004\n",
      "CO: 1.1717880199435378\n",
      "MN: 1.1283489308059944\n",
      "ND: 1.0119268838146436\n",
      "CA: 0.8131264300065963\n",
      "MT: 0.6880792950398765\n",
      "NH: 0.321744093261048\n",
      "DC: 0.0\n",
      "RI: 0.0\n",
      "WY: 0.0\n",
      "ME: 0.0\n"
     ]
    },
    {
     "data": {
      "text/plain": [
       "\"\\nIf this weighting stragegy works, it would mean that in South Dakota, LGBTQ people were \\n13 times more likely to be incarcerated than the average population!! That's insane, but not completely unbelievable.\\n\""
      ]
     },
     "execution_count": 16,
     "metadata": {},
     "output_type": "execute_result"
    }
   ],
   "source": [
    "for state in sorted(ori_bs, key=ori_bs.get, reverse=True):\n",
    "    print(f\"{state}: {ori_bs[state]}\")\n",
    "\n",
    "'''\n",
    "If this weighting stragegy works, it would mean that in South Dakota, LGBTQ people were \n",
    "13 times more likely to be incarcerated than the average population!! That's insane, but not completely unbelievable.\n",
    "'''"
   ]
  },
  {
   "cell_type": "code",
   "execution_count": null,
   "id": "9e920376",
   "metadata": {},
   "outputs": [],
   "source": []
  }
 ],
 "metadata": {
  "kernelspec": {
   "display_name": "Python 3",
   "language": "python",
   "name": "python3"
  },
  "language_info": {
   "codemirror_mode": {
    "name": "ipython",
    "version": 3
   },
   "file_extension": ".py",
   "mimetype": "text/x-python",
   "name": "python",
   "nbconvert_exporter": "python",
   "pygments_lexer": "ipython3",
   "version": "3.8.10"
  }
 },
 "nbformat": 4,
 "nbformat_minor": 5
}
