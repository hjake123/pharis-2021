{
 "cells": [
  {
   "cell_type": "code",
   "execution_count": 2,
   "id": "92bdf682",
   "metadata": {},
   "outputs": [],
   "source": [
    "import pandas\n",
    "\n",
    "dataset = pandas.read_table(\"ICPSR_37692/DS0001/37692-0001-Data.tsv\", low_memory=False)"
   ]
  },
  {
   "cell_type": "code",
   "execution_count": 3,
   "id": "727789c0",
   "metadata": {},
   "outputs": [],
   "source": [
    "''' Read in data needed for the ORR '''\n",
    "\n",
    "state_lgbt = pandas.read_csv(\"pop_counts/lbgt_percent_by_state.csv\")\n",
    "\n",
    "#state_pops = pandas.read_csv(\"pop_counts/state_pops.csv\")\n",
    "\n",
    "state_incs = pandas.read_csv(\"pop_counts/total_incarcerated_by_state.csv\")"
   ]
  },
  {
   "cell_type": "code",
   "execution_count": 4,
   "id": "4592447e",
   "metadata": {},
   "outputs": [],
   "source": [
    "def remove_indet(frame, variable_name, keep_dontknow=False, dontknow_signal=\"-1\"):\n",
    "    ''' \n",
    "    Removes entries from the dataframe for which the given variables has a negative, indeterminate value.\n",
    "    When keep_dontknow is true, it preserves entries for which the value was \"-1\", which is used in the data as a generic\n",
    "    \"don't know\" signal. That operation does not preserve order.\n",
    "    '''\n",
    "    neg_mask = frame[f'{variable_name}'].str[0] == \"-\"\n",
    "    if keep_dontknow:\n",
    "        frame1 = frame.query('not @neg_mask')\n",
    "        frame2 = frame.query(f'{variable_name} == \"{dontknow_signal}\"')\n",
    "        frame = pandas.concat([frame1, frame2])\n",
    "    else:\n",
    "        frame = frame.query('not @neg_mask')\n",
    "\n",
    "    return frame\n",
    "    "
   ]
  },
  {
   "cell_type": "code",
   "execution_count": 5,
   "id": "eb0a20b1",
   "metadata": {},
   "outputs": [],
   "source": [
    "'''Select only self-identified transgender people.'''\n",
    "\n",
    "trans_data = dataset.query('V1212 == \"3\"')"
   ]
  },
  {
   "cell_type": "markdown",
   "id": "d79a0af2",
   "metadata": {},
   "source": [
    "First, we will cut the data into sets for specific interest groups."
   ]
  },
  {
   "cell_type": "code",
   "execution_count": 6,
   "id": "9059fb24",
   "metadata": {},
   "outputs": [],
   "source": [
    "'''\n",
    "Select only data on non-straight people. This excludes V1213 answer 2, \n",
    "and also people who failed to indicate sexual orientation.\n",
    "\n",
    "I include people who reported that they did not know their sexual orientation,\n",
    "either via the -1 \"Don't Know\" error coding or the 5 \"You don't know the answer.\"\n",
    "This should allow for questioning people to be included as well.\n",
    "'''\n",
    "\n",
    "lgbq_data = dataset.query('V1213 != \"2\"') \n",
    "lgbq_data = remove_indet(lgbq_data, \"V1213\", keep_dontknow=True)"
   ]
  },
  {
   "cell_type": "code",
   "execution_count": 7,
   "id": "786a8da7",
   "metadata": {},
   "outputs": [],
   "source": [
    "'''\n",
    "Select 'assigned gender non-conforming' people. I define this to mean people whose assigned sex at birth does not match\n",
    "their gender, regardless of transgender identification.\n",
    "'''\n",
    "\n",
    "agnc_data = dataset.query('V1211 != V1212')\n",
    "agnc_data = remove_indet(agnc_data, 'V1211')\n",
    "agnc_data = remove_indet(agnc_data, 'V1212', keep_dontknow=True)"
   ]
  },
  {
   "cell_type": "code",
   "execution_count": 30,
   "id": "a8657420",
   "metadata": {
    "scrolled": true
   },
   "outputs": [
    {
     "name": "stdout",
     "output_type": "stream",
     "text": [
      "24848\n",
      "31\n",
      "2139\n",
      "95\n"
     ]
    }
   ],
   "source": [
    "print(len(dataset))\n",
    "print(len(trans_data))\n",
    "print(len(lgbq_data))\n",
    "print(len(agnc_data))\n"
   ]
  },
  {
   "cell_type": "code",
   "execution_count": 9,
   "id": "7fdd931e",
   "metadata": {},
   "outputs": [],
   "source": [
    "print(len(lgbq_data.query('V1213 == \"3\"')))"
   ]
  },
  {
   "cell_type": "code",
   "execution_count": 10,
   "id": "99ac1a0b",
   "metadata": {},
   "outputs": [],
   "source": [
    "''' Interestingly, only about 1 in 3 ASNC people in this population chose to label themselves transgender. '''\n",
    "len(trans_data)/len(agnc_data)"
   ]
  },
  {
   "cell_type": "code",
   "execution_count": 11,
   "id": "a5666113",
   "metadata": {
    "scrolled": true
   },
   "outputs": [],
   "source": [
    "''' Merge into a dataset for all lgbtq people. '''\n",
    "lgbtq_data = pandas.concat([lgbq_data, agnc_data]).drop_duplicates()\n",
    "if PRINT_SAMPLE_SIZES:\n",
    "    len(lgbtq_data)"
   ]
  },
  {
   "cell_type": "code",
   "execution_count": 26,
   "id": "d838230d",
   "metadata": {},
   "outputs": [],
   "source": [
    "''' Total LGBTQ rate was 8.7%, markedly higher than the US rate (~3.7%). '''\n",
    "if PRINT_EARLY_STATS:\n",
    "    len(lgbtq_data) / len(dataset)"
   ]
  },
  {
   "cell_type": "code",
   "execution_count": 27,
   "id": "5f7b8230",
   "metadata": {},
   "outputs": [
    {
     "name": "stdout",
     "output_type": "stream",
     "text": [
      "0.7140672782874617\n",
      "0.2530443253774963\n"
     ]
    }
   ],
   "source": [
    "''' \n",
    "71% of LGBTQ respondants identified as female, but only \n",
    "25% of the total population did. \n",
    "'''\n",
    "\n",
    "m = len(lgbtq_data.query(\"V1212 == '1'\"))\n",
    "f = len(lgbtq_data.query(\"V1212 == '2'\"))\n",
    "print(f / (m+f))\n",
    "\n",
    "m = len(dataset.query(\"V1212 == '1'\"))\n",
    "f = len(dataset.query(\"V1212 == '2'\"))\n",
    "print(f / (m+f))"
   ]
  },
  {
   "cell_type": "markdown",
   "id": "8b18f018",
   "metadata": {},
   "source": [
    "Seperate these datasets by state."
   ]
  },
  {
   "cell_type": "code",
   "execution_count": 14,
   "id": "9c7e0505",
   "metadata": {},
   "outputs": [],
   "source": [
    "''' A list of all state codes present in the dataset. Invalid codes are removed. '''\n",
    "list_state_codes = ['FL', 'MD', 'PA', 'NM', 'KY', 'MA', 'OR', 'WV', 'WI', 'WA', 'MI', 'CA', 'IL', 'VA', 'DE', 'NY', 'NV', 'SD', 'LA', 'UT', 'TX', 'MN', 'MO', 'SC', 'GA', 'NC', 'TN', 'IA', 'OH', 'IN', 'CT', 'MS', 'AR', 'HI', 'OK', 'NJ', 'ID', 'AZ', 'VT', 'NE', 'CO', 'AK', 'AL', 'KS', 'ND', 'RI', 'NH', 'WY', 'MT', 'ME']\n",
    "# PR, DC removed because of data issues"
   ]
  },
  {
   "cell_type": "code",
   "execution_count": 15,
   "id": "03f0a0bb",
   "metadata": {},
   "outputs": [
    {
     "name": "stdout",
     "output_type": "stream",
     "text": [
      "Removing states with n < 100 or rr < 0.0025:\n",
      "KY\n",
      "WA\n",
      "DE\n",
      "UT\n",
      "MN\n",
      "NJ\n",
      "ID\n",
      "VT\n",
      "CO\n",
      "ND\n",
      "RI\n",
      "NH\n",
      "WY\n",
      "MT\n",
      "ME\n",
      "There are 35 states left in the sample.\n"
     ]
    }
   ],
   "source": [
    "''' \n",
    "Remove states with too few responses. \n",
    "For now I'll say that a state has too few responses when each contributes\n",
    "more than 1% of the total, i.e. when there are fewer than 100 responses,\n",
    "or when their response ratio is less than 0.25%\n",
    "'''\n",
    "\n",
    "true_list_state_codes = []\n",
    "\n",
    "print(\"Removing states with n < 100 or rr < 0.0025:\")\n",
    "for state in list_state_codes:\n",
    "    N = len(dataset.query(f\"V0772 == '{state}'\")) \n",
    "    I = int(state_incs.query(f'State == \"{state}\"')['Incarcerated'])\n",
    "    if N < 100 or (N/I) < 0.0025:\n",
    "        print(state)\n",
    "    else:\n",
    "        true_list_state_codes.append(state)\n",
    "\n",
    "list_state_codes = true_list_state_codes\n",
    "print(f\"There are {len(list_state_codes)} states left in the sample.\")\n"
   ]
  },
  {
   "cell_type": "code",
   "execution_count": 16,
   "id": "46211e64",
   "metadata": {},
   "outputs": [],
   "source": [
    "def cut_by_state(frame):\n",
    "    ''' Divide a dataframe into a dictionary of dataframes by state the inmate was living in at the time of arrest. '''\n",
    "    statewise_dict = {}\n",
    "    for state in list_state_codes:\n",
    "        subset = frame.query(f'V0772 == \"{state}\"')\n",
    "        statewise_dict[state] = subset\n",
    "        \n",
    "    return statewise_dict\n",
    "        "
   ]
  },
  {
   "cell_type": "code",
   "execution_count": 17,
   "id": "e3f404e4",
   "metadata": {
    "scrolled": false
   },
   "outputs": [],
   "source": [
    "lgbtq_bs = cut_by_state(lgbtq_data)"
   ]
  },
  {
   "cell_type": "code",
   "execution_count": 18,
   "id": "9993a010",
   "metadata": {},
   "outputs": [],
   "source": [
    "''' Count responses after pruning. '''\n",
    "if PRINT_SAMPLE_SIZES:\n",
    "    s = 0\n",
    "    ls = 0\n",
    "    for state in list_state_codes:\n",
    "        s += len(dataset.query(f'V0772 == \"{state}\"'))\n",
    "        ls += len(lgbtq_bs[state])\n",
    "\n",
    "    print(s)\n",
    "    print(ls)\n",
    "    "
   ]
  },
  {
   "cell_type": "markdown",
   "id": "c4ddefef",
   "metadata": {},
   "source": [
    "Calculate the LGBTQ overrepresentation index for each state.\n",
    "\n",
    "The OverRepresentation Ratio is meant to measure how much more likely an LGBTQ person is to be incarcerated in a given\n",
    "state than a member of the general population. It's made of the following factors:"
   ]
  },
  {
   "cell_type": "code",
   "execution_count": 19,
   "id": "f3769d87",
   "metadata": {},
   "outputs": [],
   "source": [
    "'''OverRepresentation Ratio, measures proportion of \n",
    "LGBTQ prisoners in sample to ordinary prisoners.\n",
    "\n",
    "Note that these values are unweighted, and so must be used with care. \n",
    "\n",
    "a - number self-reported lgbtq people in sample in state\n",
    "N - number sampled in state\n",
    "L - estimated proportion lgbtq in state\n",
    "\n",
    "o = (a/N) / L\n",
    "\n",
    "'''\n",
    "\n",
    "orr_bs = {}\n",
    "vars_bs = {}\n",
    "\n",
    "sample_min = 20\n",
    "\n",
    "for state in list_state_codes:\n",
    "    a = len(lgbtq_bs[state])\n",
    "    L = float(state_lgbt.query(f'State == \"{state}\"')['Estimated Percent LGBT']) / 100\n",
    "    I = int(state_incs.query(f'State == \"{state}\"')['Incarcerated'])\n",
    "    #P = int(state_pops.query(f'Label == \"{state}\"')['Total'])\n",
    "    N = len(dataset.query(f'V0772 == \"{state}\"'))\n",
    "    \n",
    "    if N < sample_min or a == 0:\n",
    "        a = 0\n",
    "    else:\n",
    "        vars_bs[f'{state}'] = [(a/N), L, ((a/N) / L),(N/I)]\n",
    "    \n",
    "    orr_bs[f'{state}'] = (a/N) / L\n",
    "    "
   ]
  },
  {
   "cell_type": "code",
   "execution_count": 20,
   "id": "e989e36d",
   "metadata": {},
   "outputs": [],
   "source": [
    "rep_plot_frame = pandas.DataFrame.from_dict(vars_bs, orient='index', columns = ['incar', 'general', 'orr', 'rratio'])"
   ]
  },
  {
   "cell_type": "code",
   "execution_count": 21,
   "id": "b5cadbb4",
   "metadata": {
    "scrolled": false
   },
   "outputs": [
    {
     "data": {
      "text/plain": [
       "<AxesSubplot:>"
      ]
     },
     "execution_count": 21,
     "metadata": {},
     "output_type": "execute_result"
    },
    {
     "data": {
      "image/png": "[encoded data removed]",
      "text/plain": [
       "<Figure size 432x288 with 1 Axes>"
      ]
     },
     "metadata": {
      "needs_background": "light"
     },
     "output_type": "display_data"
    }
   ],
   "source": [
    "rep_plot_frame.plot.box()"
   ]
  },
  {
   "cell_type": "code",
   "execution_count": 22,
   "id": "a48274c9",
   "metadata": {
    "scrolled": false
   },
   "outputs": [
    {
     "data": {
      "text/plain": [
       "<AxesSubplot:xlabel='general', ylabel='incar'>"
      ]
     },
     "execution_count": 22,
     "metadata": {},
     "output_type": "execute_result"
    },
    {
     "data": {
      "image/png": "[encoded data removed]",
      "text/plain": [
       "<Figure size 432x288 with 1 Axes>"
      ]
     },
     "metadata": {
      "needs_background": "light"
     },
     "output_type": "display_data"
    }
   ],
   "source": [
    "#rep_plot_frame.plot.scatter(x='general', y='incar', c='rratio', colormap='jet_r')\n",
    "rep_plot_frame.plot.scatter(x='general', y='incar', c='black')"
   ]
  },
  {
   "cell_type": "code",
   "execution_count": 23,
   "id": "b08f1b06",
   "metadata": {
    "scrolled": true
   },
   "outputs": [
    {
     "name": "stdout",
     "output_type": "stream",
     "text": [
      "       incar   general       orr    rratio\n",
      "WV  0.191617  0.032366  5.920297  0.008308\n",
      "NE  0.166667  0.028438  5.860606  0.004378\n",
      "SD  0.126667  0.022599  5.605000  0.010000\n",
      "AR  0.085165  0.016567  5.140549  0.005049\n",
      "AK  0.075949  0.015501  4.899734  0.012248\n",
      "NM  0.167513  0.034335  4.878807  0.006523\n",
      "SC  0.128151  0.026607  4.816429  0.006919\n",
      "OK  0.133721  0.028557  4.682599  0.004617\n",
      "WI  0.112971  0.026108  4.327076  0.004756\n",
      "IN  0.144404  0.034017  4.245109  0.003465\n",
      "KS  0.094972  0.025060  3.789776  0.004649\n",
      "LA  0.111562  0.029899  3.731303  0.004441\n",
      "HI  0.129464  0.036723  3.525412  0.008145\n",
      "CT  0.108844  0.031136  3.495741  0.004933\n",
      "VA  0.104403  0.030108  3.467626  0.006625\n",
      "TN  0.088129  0.026651  3.306793  0.004657\n",
      "NC  0.098985  0.030416  3.254396  0.005278\n",
      "AL  0.092010  0.028689  3.207195  0.004138\n",
      "IA  0.084211  0.027575  3.053842  0.004069\n",
      "MD  0.094808  0.032749  2.895000  0.004475\n",
      "OH  0.095057  0.033279  2.856354  0.003225\n",
      "MS  0.072000  0.026546  2.712304  0.007657\n",
      "MO  0.077434  0.029330  2.640057  0.008536\n",
      "AZ  0.077244  0.033246  2.323392  0.003484\n",
      "GA  0.077526  0.033531  2.312064  0.012560\n",
      "OR  0.099125  0.043385  2.284758  0.004183\n",
      "NV  0.093248  0.041234  2.261438  0.007934\n",
      "MA  0.129310  0.057450  2.250849  0.004198\n",
      "PA  0.069277  0.032495  2.131936  0.003608\n",
      "TX  0.059956  0.029590  2.026219  0.004036\n",
      "IL  0.062690  0.033617  1.864794  0.004843\n",
      "NY  0.071958  0.041123  1.749831  0.004455\n",
      "MI  0.053571  0.031140  1.720315  0.015858\n",
      "CA  0.063768  0.040874  1.560127  0.003218\n",
      "FL  0.051940  0.035944  1.445044  0.004577\n",
      "\n",
      "Medians:\n",
      "incar      0.094808\n",
      "general    0.031136\n",
      "orr        3.207195\n",
      "rratio     0.004657\n",
      "dtype: float64\n"
     ]
    }
   ],
   "source": [
    "print(rep_plot_frame.sort_values('orr',axis='index', ascending=False))\n",
    "print(\"\\nMedians:\")\n",
    "print(rep_plot_frame.median())"
   ]
  },
  {
   "cell_type": "code",
   "execution_count": null,
   "id": "7d55c686",
   "metadata": {},
   "outputs": [],
   "source": []
  }
 ],
 "metadata": {
  "kernelspec": {
   "display_name": "Python 3",
   "language": "python",
   "name": "python3"
  },
  "language_info": {
   "codemirror_mode": {
    "name": "ipython",
    "version": 3
   },
   "file_extension": ".py",
   "mimetype": "text/x-python",
   "name": "python",
   "nbconvert_exporter": "python",
   "pygments_lexer": "ipython3",
   "version": "3.8.10"
  }
 },
 "nbformat": 4,
 "nbformat_minor": 5
}
