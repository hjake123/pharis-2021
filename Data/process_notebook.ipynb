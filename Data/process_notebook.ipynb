{
 "cells": [
  {
   "cell_type": "code",
   "execution_count": 1,
   "id": "92bdf682",
   "metadata": {},
   "outputs": [],
   "source": [
    "import pandas\n",
    "\n",
    "dataset = pandas.read_table(\"ICPSR_37692/DS0001/37692-0001-Data.tsv\", low_memory=False)"
   ]
  },
  {
   "cell_type": "code",
   "execution_count": 2,
   "id": "4592447e",
   "metadata": {},
   "outputs": [],
   "source": [
    "def remove_indet(frame, variable_name, keep_dontknow=False, dontknow_signal=\"-1\"):\n",
    "    ''' \n",
    "    Removes entries from the dataframe for which the given variables has a negative, indeterminate value.\n",
    "    When keep_dontknow is true, it preserves entries for which the value was \"-1\", which is used in the data as a generic\n",
    "    \"don't know\" signal. That operation does not preserve order.\n",
    "    '''\n",
    "    neg_mask = frame[f'{variable_name}'].str[0] == \"-\"\n",
    "    if keep_dontknow:\n",
    "        frame1 = frame.query('not @neg_mask')\n",
    "        frame2 = frame.query(f'{variable_name} == \"{dontknow_signal}\"')\n",
    "        frame = pandas.concat([frame1, frame2])\n",
    "    else:\n",
    "        frame = frame.query('not @neg_mask')\n",
    "\n",
    "    return frame\n",
    "    "
   ]
  },
  {
   "cell_type": "code",
   "execution_count": 3,
   "id": "eb0a20b1",
   "metadata": {},
   "outputs": [],
   "source": [
    "'''Select only self-identified transgender people.'''\n",
    "\n",
    "trans_data = dataset.query('V1212 == \"3\"')"
   ]
  },
  {
   "cell_type": "markdown",
   "id": "d79a0af2",
   "metadata": {},
   "source": [
    "First, we will cut the data into sets for specific interest groups."
   ]
  },
  {
   "cell_type": "code",
   "execution_count": 4,
   "id": "9059fb24",
   "metadata": {},
   "outputs": [],
   "source": [
    "'''\n",
    "Select only data on non-straight people. This excludes V1213 answer 2, \n",
    "and also people who failed to indicate sexual orientation.\n",
    "\n",
    "I include people who reported that they did not know their sexual orientation,\n",
    "either via the -1 \"Don't Know\" error coding or the 5 \"You don't know the answer.\"\n",
    "This should allow for questioning people to be included as well.\n",
    "'''\n",
    "\n",
    "lgbq_data = dataset.query('V1213 != \"2\"') \n",
    "lgbq_data = remove_indet(lgbq_data, \"V1213\", keep_dontknow=True)"
   ]
  },
  {
   "cell_type": "code",
   "execution_count": 5,
   "id": "786a8da7",
   "metadata": {},
   "outputs": [],
   "source": [
    "'''\n",
    "Select 'assigned gender non-conforming' people. I define this to mean people whose assigned sex at birth does not match\n",
    "their gender, regardless of transgender identification.\n",
    "'''\n",
    "\n",
    "agnc_data = dataset.query('V1211 != V1212')\n",
    "agnc_data = remove_indet(agnc_data, 'V1211')\n",
    "agnc_data = remove_indet(agnc_data, 'V1212', keep_dontknow=True)"
   ]
  },
  {
   "cell_type": "code",
   "execution_count": 6,
   "id": "a8657420",
   "metadata": {
    "scrolled": true
   },
   "outputs": [
    {
     "name": "stdout",
     "output_type": "stream",
     "text": [
      "24848\n",
      "31\n",
      "2139\n",
      "95\n"
     ]
    }
   ],
   "source": [
    "print(len(dataset))\n",
    "print(len(trans_data))\n",
    "print(len(lgbq_data))\n",
    "print(len(agnc_data))\n"
   ]
  },
  {
   "cell_type": "code",
   "execution_count": 7,
   "id": "7fdd931e",
   "metadata": {},
   "outputs": [
    {
     "name": "stdout",
     "output_type": "stream",
     "text": [
      "1183\n"
     ]
    }
   ],
   "source": [
    "print(len(lgbq_data.query('V1213 == \"3\"')))"
   ]
  },
  {
   "cell_type": "code",
   "execution_count": 26,
   "id": "99ac1a0b",
   "metadata": {},
   "outputs": [
    {
     "data": {
      "text/plain": [
       "0.3263157894736842"
      ]
     },
     "execution_count": 26,
     "metadata": {},
     "output_type": "execute_result"
    }
   ],
   "source": [
    "''' Interestingly, only about 1 in 3 ASNC people in this population chose to label themselves transgender. '''\n",
    "len(trans_data)/len(agnc_data)"
   ]
  },
  {
   "cell_type": "code",
   "execution_count": 9,
   "id": "a5666113",
   "metadata": {
    "scrolled": true
   },
   "outputs": [
    {
     "data": {
      "text/plain": [
       "2169"
      ]
     },
     "execution_count": 9,
     "metadata": {},
     "output_type": "execute_result"
    }
   ],
   "source": [
    "''' Merge into a dataset for all lgbtq people. '''\n",
    "\n",
    "lgbtq_data = pandas.concat([lgbq_data, agnc_data]).drop_duplicates()\n",
    "len(lgbtq_data)"
   ]
  },
  {
   "cell_type": "code",
   "execution_count": 27,
   "id": "d838230d",
   "metadata": {},
   "outputs": [
    {
     "data": {
      "text/plain": [
       "0.08729072762395364"
      ]
     },
     "execution_count": 27,
     "metadata": {},
     "output_type": "execute_result"
    }
   ],
   "source": [
    "''' Total LGBTQ rate was 8.7%, markedly higher than the US rate (~3.7%). '''\n",
    "len(lgbtq_data) / len(dataset)"
   ]
  },
  {
   "cell_type": "code",
   "execution_count": 24,
   "id": "5f7b8230",
   "metadata": {},
   "outputs": [
    {
     "name": "stdout",
     "output_type": "stream",
     "text": [
      "561\n",
      "1401\n",
      "0.7140672782874617\n",
      "18402\n",
      "6234\n",
      "0.2530443253774963\n"
     ]
    }
   ],
   "source": [
    "''' \n",
    "71% of LGBTQ respondants identified as female, but only \n",
    "25% of the total population did. \n",
    "'''\n",
    "\n",
    "m = len(lgbtq_data.query(\"V1212 == '1'\"))\n",
    "f = len(lgbtq_data.query(\"V1212 == '2'\"))\n",
    "print(m)\n",
    "print(f)\n",
    "print(f / (m+f))\n",
    "\n",
    "m = len(dataset.query(\"V1212 == '1'\"))\n",
    "f = len(dataset.query(\"V1212 == '2'\"))\n",
    "print(m)\n",
    "print(f)\n",
    "print(f / (m+f))"
   ]
  },
  {
   "cell_type": "markdown",
   "id": "8b18f018",
   "metadata": {},
   "source": [
    "Seperate these datasets by state."
   ]
  },
  {
   "cell_type": "code",
   "execution_count": 11,
   "id": "9c7e0505",
   "metadata": {},
   "outputs": [],
   "source": [
    "''' A list of all state codes given by the dataset. Invalid codes are removed. '''\n",
    "list_state_codes = ['FL', 'MD', 'PA', 'NM', 'KY', 'MA', 'OR', 'WV', 'WI', 'WA', 'MI', 'CA', 'IL', 'VA', 'DE', 'NY', 'NV', 'SD', 'LA', 'UT', 'TX', 'MN', 'MO', 'SC', 'GA', 'NC', 'TN', 'IA', 'OH', 'IN', 'CT', 'MS', 'AR', 'HI', 'OK', 'NJ', 'ID', 'AZ', 'VT', 'NE', 'CO', 'AK', 'AL', 'KS', 'ND', 'RI', 'NH', 'WY', 'MT', 'ME']\n",
    "# PR, DC removed because of data issues"
   ]
  },
  {
   "cell_type": "code",
   "execution_count": 12,
   "id": "46211e64",
   "metadata": {},
   "outputs": [],
   "source": [
    "def cut_by_state(frame):\n",
    "    ''' Divide a dataframe into a dictionary of 50 dataframes by state the inmate was living in at the time of arrest. '''\n",
    "    statewise_dict = {}\n",
    "    for state in list_state_codes:\n",
    "        subset = frame.query(f'V0772 == \"{state}\"')\n",
    "        statewise_dict[state] = subset\n",
    "        \n",
    "    return statewise_dict\n",
    "        "
   ]
  },
  {
   "cell_type": "code",
   "execution_count": 13,
   "id": "e3f404e4",
   "metadata": {
    "scrolled": false
   },
   "outputs": [],
   "source": [
    "lgbtq_bs = cut_by_state(lgbtq_data)"
   ]
  },
  {
   "cell_type": "markdown",
   "id": "c4ddefef",
   "metadata": {},
   "source": [
    "Calculate the LGBTQ overrepresentation index for each state.\n",
    "\n",
    "The OverRepresetnation Ratio is meant to measure how much more likely an LGBTQ person is to be incarcerated in a given\n",
    "state than a member of the general population. It's made of the following factors:"
   ]
  },
  {
   "cell_type": "code",
   "execution_count": 14,
   "id": "727789c0",
   "metadata": {},
   "outputs": [],
   "source": [
    "''' Read in data needed for the ORR '''\n",
    "\n",
    "state_lgbt = pandas.read_csv(\"pop_counts/lbgt_percent_by_state.csv\")\n",
    "\n",
    "state_pops = pandas.read_csv(\"pop_counts/state_pops.csv\")\n",
    "\n",
    "state_incs = pandas.read_csv(\"pop_counts/total_incarcerated_by_state.csv\")"
   ]
  },
  {
   "cell_type": "code",
   "execution_count": 44,
   "id": "f3769d87",
   "metadata": {},
   "outputs": [],
   "source": [
    "'''OverRepresentation Ratio, measures proportion of \n",
    "LGBTQ prisoners in sample to ordinary prisoners.\n",
    "\n",
    "Note that these values are unweighted, and so must be used with care. \n",
    "\n",
    "a - number self-reported lgbtq people in sample in state\n",
    "N - number sampled in state\n",
    "L - estimated proportion lgbtq in state\n",
    "\n",
    "o = (a/N) / L\n",
    "\n",
    "'''\n",
    "\n",
    "orr_bs = {}\n",
    "vars_bs = {}\n",
    "\n",
    "sample_min = 20\n",
    "\n",
    "for state in list_state_codes:\n",
    "    a = len(lgbtq_bs[state])\n",
    "    L = float(state_lgbt.query(f'State == \"{state}\"')['Estimated Percent LGBT']) / 100\n",
    "    I = int(state_incs.query(f'State == \"{state}\"')['Incarcerated'])\n",
    "    #P = int(state_pops.query(f'Label == \"{state}\"')['Total'])\n",
    "    N = len(dataset.query(f'V0772 == \"{state}\"'))\n",
    "    \n",
    "    if N < sample_min or a == 0:\n",
    "        a = 0\n",
    "    else:\n",
    "        vars_bs[f'{state}'] = [(a/N), L, ((a/N) / L),(N/I)]\n",
    "    \n",
    "    orr_bs[f'{state}'] = (a/N) / L\n",
    "    "
   ]
  },
  {
   "cell_type": "code",
   "execution_count": 45,
   "id": "e94a8cea",
   "metadata": {
    "scrolled": true
   },
   "outputs": [
    {
     "name": "stdout",
     "output_type": "stream",
     "text": [
      "ID: 11.818783070792263\n",
      "UT: 8.262886596659461\n",
      "KY: 7.33661740578609\n",
      "WV: 5.920297336100449\n",
      "NE: 5.860606061281628\n",
      "MN: 5.755102041618753\n",
      "SD: 5.604999999131225\n",
      "AR: 5.140549449971653\n",
      "AK: 4.899733510570392\n",
      "NM: 4.878807106385537\n",
      "SC: 4.816429490842986\n",
      "OK: 4.6825992997561885\n",
      "NJ: 4.516358669737267\n",
      "WI: 4.327075534432707\n",
      "IN: 4.245109012386153\n",
      "KS: 3.7897757715578564\n",
      "DE: 3.7427667269292386\n",
      "WY: 3.735483871154516\n",
      "LA: 3.731302990048621\n",
      "HI: 3.5254120880856465\n",
      "CT: 3.495740638685962\n",
      "VA: 3.467625969602179\n",
      "TN: 3.3067930265482537\n",
      "NC: 3.254395875011212\n",
      "AL: 3.207194742322028\n",
      "IA: 3.0538415000321977\n",
      "MD: 2.894999657893661\n",
      "OH: 2.8563539150795036\n",
      "MS: 2.7123037979517624\n",
      "MO: 2.6400565391508115\n",
      "WA: 2.3770345594820133\n",
      "AZ: 2.3233923983993914\n",
      "GA: 2.312064459992402\n",
      "OR: 2.284758400053061\n",
      "NV: 2.2614375777440907\n",
      "MA: 2.250849007199595\n",
      "PA: 2.131936399334565\n",
      "TX: 2.026218693797344\n",
      "IL: 1.8647944289927614\n",
      "CO: 1.814810924502501\n",
      "NY: 1.7498306877690062\n",
      "MI: 1.720314653049697\n",
      "MT: 1.6496913580989274\n",
      "CA: 1.56012742836835\n",
      "FL: 1.4450436935262194\n",
      "VT: 0.8421052630905261\n",
      "ND: 0.0\n",
      "RI: 0.0\n",
      "NH: 0.0\n",
      "ME: 0.0\n"
     ]
    }
   ],
   "source": [
    "for state in sorted(orr_bs, key=orr_bs.get, reverse=True):\n",
    "    print(f\"{state}: {orr_bs[state]}\")\n",
    "        \n"
   ]
  },
  {
   "cell_type": "code",
   "execution_count": 49,
   "id": "e989e36d",
   "metadata": {},
   "outputs": [],
   "source": [
    "rep_plot_frame = pandas.DataFrame.from_dict(vars_bs, orient='index', columns = ['incar', 'general', 'orr', 'rratio'])"
   ]
  },
  {
   "cell_type": "code",
   "execution_count": 50,
   "id": "b5cadbb4",
   "metadata": {
    "scrolled": false
   },
   "outputs": [
    {
     "data": {
      "text/plain": [
       "<AxesSubplot:>"
      ]
     },
     "execution_count": 50,
     "metadata": {},
     "output_type": "execute_result"
    },
    {
     "data": {
      "image/png": "[encoded data removed]",
      "text/plain": [
       "<Figure size 432x288 with 1 Axes>"
      ]
     },
     "metadata": {
      "needs_background": "light"
     },
     "output_type": "display_data"
    }
   ],
   "source": [
    "rep_plot_frame.plot.box()"
   ]
  },
  {
   "cell_type": "code",
   "execution_count": 51,
   "id": "a48274c9",
   "metadata": {
    "scrolled": false
   },
   "outputs": [
    {
     "data": {
      "text/plain": [
       "<AxesSubplot:xlabel='general', ylabel='incar'>"
      ]
     },
     "execution_count": 51,
     "metadata": {},
     "output_type": "execute_result"
    },
    {
     "data": {
      "image/png": "[encoded data removed]",
      "text/plain": [
       "<Figure size 432x288 with 2 Axes>"
      ]
     },
     "metadata": {
      "needs_background": "light"
     },
     "output_type": "display_data"
    }
   ],
   "source": [
    "rep_plot_frame.plot.scatter(x='general', y='incar', c='rratio', colormap='jet_r')"
   ]
  },
  {
   "cell_type": "code",
   "execution_count": 52,
   "id": "b08f1b06",
   "metadata": {
    "scrolled": true
   },
   "outputs": [
    {
     "name": "stdout",
     "output_type": "stream",
     "text": [
      "       incar   general        orr    rratio\n",
      "VT  0.035088  0.041667   0.842105  0.007703\n",
      "FL  0.051940  0.035944   1.445044  0.004577\n",
      "CA  0.063768  0.040874   1.560127  0.003218\n",
      "MT  0.037037  0.022451   1.649691  0.001776\n",
      "MI  0.053571  0.031140   1.720315  0.015858\n",
      "NY  0.071958  0.041123   1.749831  0.004455\n",
      "CO  0.063025  0.034728   1.814811  0.001952\n",
      "IL  0.062690  0.033617   1.864794  0.004843\n",
      "TX  0.059956  0.029590   2.026219  0.004036\n",
      "PA  0.069277  0.032495   2.131936  0.003608\n",
      "MA  0.129310  0.057450   2.250849  0.004198\n",
      "NV  0.093248  0.041234   2.261438  0.007934\n",
      "OR  0.099125  0.043385   2.284758  0.004183\n",
      "GA  0.077526  0.033531   2.312064  0.012560\n",
      "AZ  0.077244  0.033246   2.323392  0.003484\n",
      "WA  0.093645  0.039396   2.377035  0.002354\n",
      "MO  0.077434  0.029330   2.640057  0.008536\n",
      "MS  0.072000  0.026546   2.712304  0.007657\n",
      "OH  0.095057  0.033279   2.856354  0.003225\n",
      "MD  0.094808  0.032749   2.895000  0.004475\n",
      "IA  0.084211  0.027575   3.053842  0.004069\n",
      "AL  0.092010  0.028689   3.207195  0.004138\n",
      "NC  0.098985  0.030416   3.254396  0.005278\n",
      "TN  0.088129  0.026651   3.306793  0.004657\n",
      "VA  0.104403  0.030108   3.467626  0.006625\n",
      "CT  0.108844  0.031136   3.495741  0.004933\n",
      "HI  0.129464  0.036723   3.525412  0.008145\n",
      "LA  0.111562  0.029899   3.731303  0.004441\n",
      "WY  0.096774  0.025907   3.735484  0.003298\n",
      "DE  0.215190  0.057495   3.742767  0.003527\n",
      "KS  0.094972  0.025060   3.789776  0.004649\n",
      "IN  0.144404  0.034017   4.245109  0.003465\n",
      "WI  0.112971  0.026108   4.327076  0.004756\n",
      "NJ  0.146444  0.032425   4.516359  0.001283\n",
      "OK  0.133721  0.028557   4.682599  0.004617\n",
      "SC  0.128151  0.026607   4.816429  0.006919\n",
      "NM  0.167513  0.034335   4.878807  0.006523\n",
      "AK  0.075949  0.015501   4.899734  0.012248\n",
      "AR  0.085165  0.016567   5.140549  0.005049\n",
      "SD  0.126667  0.022599   5.605000  0.010000\n",
      "MN  0.178571  0.031028   5.755102  0.000937\n",
      "NE  0.166667  0.028438   5.860606  0.004378\n",
      "WV  0.191617  0.032366   5.920297  0.008308\n",
      "KY  0.192118  0.026186   7.336617  0.002074\n",
      "UT  0.206186  0.024953   8.262887  0.003819\n",
      "ID  0.238095  0.020145  11.818783  0.001721\n",
      "incar      0.095015\n",
      "general    0.031082\n",
      "orr        3.280594\n",
      "rratio     0.004465\n",
      "dtype: float64\n"
     ]
    }
   ],
   "source": [
    "print(rep_plot_frame.sort_values('orr',axis='index'))\n",
    "print(rep_plot_frame.median())"
   ]
  },
  {
   "cell_type": "code",
   "execution_count": 34,
   "id": "efebd9be",
   "metadata": {
    "scrolled": true
   },
   "outputs": [
    {
     "name": "stdout",
     "output_type": "stream",
     "text": [
      "Removing: \n",
      "FL\n",
      "PA\n",
      "NM\n",
      "KY\n",
      "MA\n",
      "WV\n",
      "MI\n",
      "CA\n",
      "IL\n",
      "NY\n",
      "NV\n",
      "SD\n",
      "UT\n",
      "TX\n",
      "MN\n",
      "SC\n",
      "AR\n",
      "OK\n",
      "ID\n",
      "VT\n",
      "NE\n",
      "CO\n",
      "AK\n",
      "MT\n"
     ]
    }
   ],
   "source": [
    "''' Isolate the interquartile range. '''\n",
    "q1 = rep_plot_frame.quantile(.25)\n",
    "q3 = rep_plot_frame.quantile(.75)\n",
    "print(\"Removing: \")\n",
    "for item in rep_plot_frame.index:\n",
    "    if rep_plot_frame.at[item, 'orr'] > q3['orr'] or rep_plot_frame.at[item, 'orr'] < q1['orr']:\n",
    "        print(item)\n",
    "        rep_plot_frame.at[item] = None"
   ]
  },
  {
   "cell_type": "code",
   "execution_count": 35,
   "id": "4297f747",
   "metadata": {
    "scrolled": true
   },
   "outputs": [
    {
     "data": {
      "text/plain": [
       "<AxesSubplot:xlabel='general', ylabel='incar'>"
      ]
     },
     "execution_count": 35,
     "metadata": {},
     "output_type": "execute_result"
    },
    {
     "data": {
      "image/png": "[encoded data removed]",
      "text/plain": [
       "<Figure size 432x288 with 2 Axes>"
      ]
     },
     "metadata": {
      "needs_background": "light"
     },
     "output_type": "display_data"
    }
   ],
   "source": [
    "rep_plot_frame.plot.scatter(x='general', y='incar', c='rratio', colormap='jet_r')"
   ]
  },
  {
   "cell_type": "code",
   "execution_count": 36,
   "id": "bd526ae1",
   "metadata": {
    "scrolled": true
   },
   "outputs": [
    {
     "data": {
      "text/html": [
       "<div>\n",
       "<style scoped>\n",
       "    .dataframe tbody tr th:only-of-type {\n",
       "        vertical-align: middle;\n",
       "    }\n",
       "\n",
       "    .dataframe tbody tr th {\n",
       "        vertical-align: top;\n",
       "    }\n",
       "\n",
       "    .dataframe thead th {\n",
       "        text-align: right;\n",
       "    }\n",
       "</style>\n",
       "<table border=\"1\" class=\"dataframe\">\n",
       "  <thead>\n",
       "    <tr style=\"text-align: right;\">\n",
       "      <th></th>\n",
       "      <th>incar</th>\n",
       "      <th>general</th>\n",
       "      <th>orr</th>\n",
       "      <th>rratio</th>\n",
       "    </tr>\n",
       "  </thead>\n",
       "  <tbody>\n",
       "    <tr>\n",
       "      <th>OR</th>\n",
       "      <td>0.099125</td>\n",
       "      <td>0.043385</td>\n",
       "      <td>2.284758</td>\n",
       "      <td>0.004183</td>\n",
       "    </tr>\n",
       "    <tr>\n",
       "      <th>GA</th>\n",
       "      <td>0.077526</td>\n",
       "      <td>0.033531</td>\n",
       "      <td>2.312064</td>\n",
       "      <td>0.012560</td>\n",
       "    </tr>\n",
       "    <tr>\n",
       "      <th>AZ</th>\n",
       "      <td>0.077244</td>\n",
       "      <td>0.033246</td>\n",
       "      <td>2.323392</td>\n",
       "      <td>0.003484</td>\n",
       "    </tr>\n",
       "    <tr>\n",
       "      <th>WA</th>\n",
       "      <td>0.093645</td>\n",
       "      <td>0.039396</td>\n",
       "      <td>2.377035</td>\n",
       "      <td>0.002354</td>\n",
       "    </tr>\n",
       "    <tr>\n",
       "      <th>MO</th>\n",
       "      <td>0.077434</td>\n",
       "      <td>0.029330</td>\n",
       "      <td>2.640057</td>\n",
       "      <td>0.008536</td>\n",
       "    </tr>\n",
       "    <tr>\n",
       "      <th>MS</th>\n",
       "      <td>0.072000</td>\n",
       "      <td>0.026546</td>\n",
       "      <td>2.712304</td>\n",
       "      <td>0.007657</td>\n",
       "    </tr>\n",
       "    <tr>\n",
       "      <th>OH</th>\n",
       "      <td>0.095057</td>\n",
       "      <td>0.033279</td>\n",
       "      <td>2.856354</td>\n",
       "      <td>0.003225</td>\n",
       "    </tr>\n",
       "    <tr>\n",
       "      <th>MD</th>\n",
       "      <td>0.094808</td>\n",
       "      <td>0.032749</td>\n",
       "      <td>2.895000</td>\n",
       "      <td>0.004475</td>\n",
       "    </tr>\n",
       "    <tr>\n",
       "      <th>IA</th>\n",
       "      <td>0.084211</td>\n",
       "      <td>0.027575</td>\n",
       "      <td>3.053842</td>\n",
       "      <td>0.004069</td>\n",
       "    </tr>\n",
       "    <tr>\n",
       "      <th>AL</th>\n",
       "      <td>0.092010</td>\n",
       "      <td>0.028689</td>\n",
       "      <td>3.207195</td>\n",
       "      <td>0.004138</td>\n",
       "    </tr>\n",
       "    <tr>\n",
       "      <th>NC</th>\n",
       "      <td>0.098985</td>\n",
       "      <td>0.030416</td>\n",
       "      <td>3.254396</td>\n",
       "      <td>0.005278</td>\n",
       "    </tr>\n",
       "    <tr>\n",
       "      <th>TN</th>\n",
       "      <td>0.088129</td>\n",
       "      <td>0.026651</td>\n",
       "      <td>3.306793</td>\n",
       "      <td>0.004657</td>\n",
       "    </tr>\n",
       "    <tr>\n",
       "      <th>VA</th>\n",
       "      <td>0.104403</td>\n",
       "      <td>0.030108</td>\n",
       "      <td>3.467626</td>\n",
       "      <td>0.006625</td>\n",
       "    </tr>\n",
       "    <tr>\n",
       "      <th>CT</th>\n",
       "      <td>0.108844</td>\n",
       "      <td>0.031136</td>\n",
       "      <td>3.495741</td>\n",
       "      <td>0.004933</td>\n",
       "    </tr>\n",
       "    <tr>\n",
       "      <th>HI</th>\n",
       "      <td>0.129464</td>\n",
       "      <td>0.036723</td>\n",
       "      <td>3.525412</td>\n",
       "      <td>0.008145</td>\n",
       "    </tr>\n",
       "    <tr>\n",
       "      <th>LA</th>\n",
       "      <td>0.111562</td>\n",
       "      <td>0.029899</td>\n",
       "      <td>3.731303</td>\n",
       "      <td>0.004441</td>\n",
       "    </tr>\n",
       "    <tr>\n",
       "      <th>WY</th>\n",
       "      <td>0.096774</td>\n",
       "      <td>0.025907</td>\n",
       "      <td>3.735484</td>\n",
       "      <td>0.003298</td>\n",
       "    </tr>\n",
       "    <tr>\n",
       "      <th>DE</th>\n",
       "      <td>0.215190</td>\n",
       "      <td>0.057495</td>\n",
       "      <td>3.742767</td>\n",
       "      <td>0.003527</td>\n",
       "    </tr>\n",
       "    <tr>\n",
       "      <th>KS</th>\n",
       "      <td>0.094972</td>\n",
       "      <td>0.025060</td>\n",
       "      <td>3.789776</td>\n",
       "      <td>0.004649</td>\n",
       "    </tr>\n",
       "    <tr>\n",
       "      <th>IN</th>\n",
       "      <td>0.144404</td>\n",
       "      <td>0.034017</td>\n",
       "      <td>4.245109</td>\n",
       "      <td>0.003465</td>\n",
       "    </tr>\n",
       "    <tr>\n",
       "      <th>WI</th>\n",
       "      <td>0.112971</td>\n",
       "      <td>0.026108</td>\n",
       "      <td>4.327076</td>\n",
       "      <td>0.004756</td>\n",
       "    </tr>\n",
       "    <tr>\n",
       "      <th>NJ</th>\n",
       "      <td>0.146444</td>\n",
       "      <td>0.032425</td>\n",
       "      <td>4.516359</td>\n",
       "      <td>0.001283</td>\n",
       "    </tr>\n",
       "    <tr>\n",
       "      <th>FL</th>\n",
       "      <td>NaN</td>\n",
       "      <td>NaN</td>\n",
       "      <td>NaN</td>\n",
       "      <td>NaN</td>\n",
       "    </tr>\n",
       "    <tr>\n",
       "      <th>PA</th>\n",
       "      <td>NaN</td>\n",
       "      <td>NaN</td>\n",
       "      <td>NaN</td>\n",
       "      <td>NaN</td>\n",
       "    </tr>\n",
       "    <tr>\n",
       "      <th>NM</th>\n",
       "      <td>NaN</td>\n",
       "      <td>NaN</td>\n",
       "      <td>NaN</td>\n",
       "      <td>NaN</td>\n",
       "    </tr>\n",
       "    <tr>\n",
       "      <th>KY</th>\n",
       "      <td>NaN</td>\n",
       "      <td>NaN</td>\n",
       "      <td>NaN</td>\n",
       "      <td>NaN</td>\n",
       "    </tr>\n",
       "    <tr>\n",
       "      <th>MA</th>\n",
       "      <td>NaN</td>\n",
       "      <td>NaN</td>\n",
       "      <td>NaN</td>\n",
       "      <td>NaN</td>\n",
       "    </tr>\n",
       "    <tr>\n",
       "      <th>WV</th>\n",
       "      <td>NaN</td>\n",
       "      <td>NaN</td>\n",
       "      <td>NaN</td>\n",
       "      <td>NaN</td>\n",
       "    </tr>\n",
       "    <tr>\n",
       "      <th>MI</th>\n",
       "      <td>NaN</td>\n",
       "      <td>NaN</td>\n",
       "      <td>NaN</td>\n",
       "      <td>NaN</td>\n",
       "    </tr>\n",
       "    <tr>\n",
       "      <th>CA</th>\n",
       "      <td>NaN</td>\n",
       "      <td>NaN</td>\n",
       "      <td>NaN</td>\n",
       "      <td>NaN</td>\n",
       "    </tr>\n",
       "    <tr>\n",
       "      <th>IL</th>\n",
       "      <td>NaN</td>\n",
       "      <td>NaN</td>\n",
       "      <td>NaN</td>\n",
       "      <td>NaN</td>\n",
       "    </tr>\n",
       "    <tr>\n",
       "      <th>NY</th>\n",
       "      <td>NaN</td>\n",
       "      <td>NaN</td>\n",
       "      <td>NaN</td>\n",
       "      <td>NaN</td>\n",
       "    </tr>\n",
       "    <tr>\n",
       "      <th>NV</th>\n",
       "      <td>NaN</td>\n",
       "      <td>NaN</td>\n",
       "      <td>NaN</td>\n",
       "      <td>NaN</td>\n",
       "    </tr>\n",
       "    <tr>\n",
       "      <th>SD</th>\n",
       "      <td>NaN</td>\n",
       "      <td>NaN</td>\n",
       "      <td>NaN</td>\n",
       "      <td>NaN</td>\n",
       "    </tr>\n",
       "    <tr>\n",
       "      <th>UT</th>\n",
       "      <td>NaN</td>\n",
       "      <td>NaN</td>\n",
       "      <td>NaN</td>\n",
       "      <td>NaN</td>\n",
       "    </tr>\n",
       "    <tr>\n",
       "      <th>TX</th>\n",
       "      <td>NaN</td>\n",
       "      <td>NaN</td>\n",
       "      <td>NaN</td>\n",
       "      <td>NaN</td>\n",
       "    </tr>\n",
       "    <tr>\n",
       "      <th>MN</th>\n",
       "      <td>NaN</td>\n",
       "      <td>NaN</td>\n",
       "      <td>NaN</td>\n",
       "      <td>NaN</td>\n",
       "    </tr>\n",
       "    <tr>\n",
       "      <th>SC</th>\n",
       "      <td>NaN</td>\n",
       "      <td>NaN</td>\n",
       "      <td>NaN</td>\n",
       "      <td>NaN</td>\n",
       "    </tr>\n",
       "    <tr>\n",
       "      <th>AR</th>\n",
       "      <td>NaN</td>\n",
       "      <td>NaN</td>\n",
       "      <td>NaN</td>\n",
       "      <td>NaN</td>\n",
       "    </tr>\n",
       "    <tr>\n",
       "      <th>OK</th>\n",
       "      <td>NaN</td>\n",
       "      <td>NaN</td>\n",
       "      <td>NaN</td>\n",
       "      <td>NaN</td>\n",
       "    </tr>\n",
       "    <tr>\n",
       "      <th>ID</th>\n",
       "      <td>NaN</td>\n",
       "      <td>NaN</td>\n",
       "      <td>NaN</td>\n",
       "      <td>NaN</td>\n",
       "    </tr>\n",
       "    <tr>\n",
       "      <th>VT</th>\n",
       "      <td>NaN</td>\n",
       "      <td>NaN</td>\n",
       "      <td>NaN</td>\n",
       "      <td>NaN</td>\n",
       "    </tr>\n",
       "    <tr>\n",
       "      <th>NE</th>\n",
       "      <td>NaN</td>\n",
       "      <td>NaN</td>\n",
       "      <td>NaN</td>\n",
       "      <td>NaN</td>\n",
       "    </tr>\n",
       "    <tr>\n",
       "      <th>CO</th>\n",
       "      <td>NaN</td>\n",
       "      <td>NaN</td>\n",
       "      <td>NaN</td>\n",
       "      <td>NaN</td>\n",
       "    </tr>\n",
       "    <tr>\n",
       "      <th>AK</th>\n",
       "      <td>NaN</td>\n",
       "      <td>NaN</td>\n",
       "      <td>NaN</td>\n",
       "      <td>NaN</td>\n",
       "    </tr>\n",
       "    <tr>\n",
       "      <th>MT</th>\n",
       "      <td>NaN</td>\n",
       "      <td>NaN</td>\n",
       "      <td>NaN</td>\n",
       "      <td>NaN</td>\n",
       "    </tr>\n",
       "  </tbody>\n",
       "</table>\n",
       "</div>"
      ],
      "text/plain": [
       "       incar   general       orr    rratio\n",
       "OR  0.099125  0.043385  2.284758  0.004183\n",
       "GA  0.077526  0.033531  2.312064  0.012560\n",
       "AZ  0.077244  0.033246  2.323392  0.003484\n",
       "WA  0.093645  0.039396  2.377035  0.002354\n",
       "MO  0.077434  0.029330  2.640057  0.008536\n",
       "MS  0.072000  0.026546  2.712304  0.007657\n",
       "OH  0.095057  0.033279  2.856354  0.003225\n",
       "MD  0.094808  0.032749  2.895000  0.004475\n",
       "IA  0.084211  0.027575  3.053842  0.004069\n",
       "AL  0.092010  0.028689  3.207195  0.004138\n",
       "NC  0.098985  0.030416  3.254396  0.005278\n",
       "TN  0.088129  0.026651  3.306793  0.004657\n",
       "VA  0.104403  0.030108  3.467626  0.006625\n",
       "CT  0.108844  0.031136  3.495741  0.004933\n",
       "HI  0.129464  0.036723  3.525412  0.008145\n",
       "LA  0.111562  0.029899  3.731303  0.004441\n",
       "WY  0.096774  0.025907  3.735484  0.003298\n",
       "DE  0.215190  0.057495  3.742767  0.003527\n",
       "KS  0.094972  0.025060  3.789776  0.004649\n",
       "IN  0.144404  0.034017  4.245109  0.003465\n",
       "WI  0.112971  0.026108  4.327076  0.004756\n",
       "NJ  0.146444  0.032425  4.516359  0.001283\n",
       "FL       NaN       NaN       NaN       NaN\n",
       "PA       NaN       NaN       NaN       NaN\n",
       "NM       NaN       NaN       NaN       NaN\n",
       "KY       NaN       NaN       NaN       NaN\n",
       "MA       NaN       NaN       NaN       NaN\n",
       "WV       NaN       NaN       NaN       NaN\n",
       "MI       NaN       NaN       NaN       NaN\n",
       "CA       NaN       NaN       NaN       NaN\n",
       "IL       NaN       NaN       NaN       NaN\n",
       "NY       NaN       NaN       NaN       NaN\n",
       "NV       NaN       NaN       NaN       NaN\n",
       "SD       NaN       NaN       NaN       NaN\n",
       "UT       NaN       NaN       NaN       NaN\n",
       "TX       NaN       NaN       NaN       NaN\n",
       "MN       NaN       NaN       NaN       NaN\n",
       "SC       NaN       NaN       NaN       NaN\n",
       "AR       NaN       NaN       NaN       NaN\n",
       "OK       NaN       NaN       NaN       NaN\n",
       "ID       NaN       NaN       NaN       NaN\n",
       "VT       NaN       NaN       NaN       NaN\n",
       "NE       NaN       NaN       NaN       NaN\n",
       "CO       NaN       NaN       NaN       NaN\n",
       "AK       NaN       NaN       NaN       NaN\n",
       "MT       NaN       NaN       NaN       NaN"
      ]
     },
     "execution_count": 36,
     "metadata": {},
     "output_type": "execute_result"
    }
   ],
   "source": [
    "rep_plot_frame.sort_values('orr',axis='index')"
   ]
  },
  {
   "cell_type": "code",
   "execution_count": null,
   "id": "754d1bb7",
   "metadata": {},
   "outputs": [],
   "source": []
  }
 ],
 "metadata": {
  "kernelspec": {
   "display_name": "Python 3",
   "language": "python",
   "name": "python3"
  },
  "language_info": {
   "codemirror_mode": {
    "name": "ipython",
    "version": 3
   },
   "file_extension": ".py",
   "mimetype": "text/x-python",
   "name": "python",
   "nbconvert_exporter": "python",
   "pygments_lexer": "ipython3",
   "version": "3.8.10"
  }
 },
 "nbformat": 4,
 "nbformat_minor": 5
}
